{
 "cells": [
  {
   "cell_type": "markdown",
   "metadata": {},
   "source": [
    "### DEMO for 4 main apis"
   ]
  },
  {
   "cell_type": "code",
   "execution_count": 10,
   "metadata": {},
   "outputs": [],
   "source": [
    "import api\n",
    "## load demo data\n",
    "import glob\n",
    "import pandas as pd\n",
    "from dtw_lib._dtw_lib import fastdtw\n",
    "f = lambda x, y: fastdtw(x, y, 1)[0]\n",
    "file = glob.glob('../../Dataset/User1/1_2019-02-14_11-57-42_Accelerometer.csv')[0]\n",
    "data = pd.read_csv(file, usecols=['Acc_X', 'Acc_Y', 'Acc_Z', 'Label'])"
   ]
  },
  {
   "cell_type": "code",
   "execution_count": 31,
   "metadata": {},
   "outputs": [
    {
     "data": {
      "text/plain": [
       "<module 'api' from '/home/t/tianyang/curantis/medoid/medoid_lib/api.py'>"
      ]
     },
     "execution_count": 31,
     "metadata": {},
     "output_type": "execute_result"
    }
   ],
   "source": [
    "import importlib\n",
    "importlib.reload(api)"
   ]
  },
  {
   "cell_type": "markdown",
   "metadata": {},
   "source": [
    "#### get matrice from raw dataframes"
   ]
  },
  {
   "cell_type": "code",
   "execution_count": 11,
   "metadata": {},
   "outputs": [
    {
     "name": "stderr",
     "output_type": "stream",
     "text": [
      "100%|██████████| 3/3 [00:00<00:00, 21.61it/s]"
     ]
    },
    {
     "name": "stdout",
     "output_type": "stream",
     "text": [
      "the data with label:1 does not have enough data, dropped\n"
     ]
    },
    {
     "name": "stderr",
     "output_type": "stream",
     "text": [
      "\n"
     ]
    }
   ],
   "source": [
    "# the parameter with = is set default\n",
    "# need to ensure the folder exits\n",
    "# data is in dataframe format\n",
    "# f is the distance function\n",
    "api.prepare_matrix(data, f, label_col='Label', duration=180, limit=180, store_path='./data',\n",
    "                          store_categorized=False, store_segs=True)"
   ]
  },
  {
   "cell_type": "code",
   "execution_count": 21,
   "metadata": {},
   "outputs": [],
   "source": [
    "matrices = api.load(['data/0_matrix_180', 'data/3_matrix_180'])\n",
    "all_segs = api.load(['data/0_segs_180', 'data/3_segs_180'])\n",
    "labels = [0, 3]"
   ]
  },
  {
   "cell_type": "markdown",
   "metadata": {},
   "source": [
    "#### get represents from data and matrice"
   ]
  },
  {
   "cell_type": "code",
   "execution_count": 33,
   "metadata": {},
   "outputs": [
    {
     "name": "stderr",
     "output_type": "stream",
     "text": [
      "/home/t/tianyang/curantis/medoid/medoid_lib/api.py:165: RuntimeWarning: invalid value encountered in double_scalars\n",
      "  a = 1.0 * (start[1] - end[1]) / (start[0] - end[0])\n"
     ]
    }
   ],
   "source": [
    "# matrice is list of matrix\n",
    "# all_segs is list of segs, which is a list of seg\n",
    "# nums is list is int\n",
    "# labels is list of label\n",
    "represents = api.get_multi_represents(matrices, all_segs, labels, f)"
   ]
  },
  {
   "cell_type": "markdown",
   "metadata": {},
   "source": [
    "#### do classification"
   ]
  },
  {
   "cell_type": "code",
   "execution_count": null,
   "metadata": {},
   "outputs": [],
   "source": [
    "# represents is list of represent which is in format (medoid, D, label) \n",
    "#    where medoid is a seg, D is the average distance from medoids to other segs in cluster\n",
    "# seg is the unknown seg\n",
    "api.classify(represents, seg, f, top=1)"
   ]
  },
  {
   "cell_type": "markdown",
   "metadata": {},
   "source": [
    "#### do evaluation"
   ]
  },
  {
   "cell_type": "code",
   "execution_count": null,
   "metadata": {},
   "outputs": [],
   "source": [
    "# all input should be matched in order\n",
    "api.evaluate(test_segs, test_label, represents, f, top=1)"
   ]
  },
  {
   "cell_type": "markdown",
   "metadata": {},
   "source": [
    "### demo for all medoid lib api"
   ]
  },
  {
   "cell_type": "code",
   "execution_count": 14,
   "metadata": {
    "collapsed": true
   },
   "outputs": [
    {
     "data": {
      "text/html": [
       "<div>\n",
       "<style scoped>\n",
       "    .dataframe tbody tr th:only-of-type {\n",
       "        vertical-align: middle;\n",
       "    }\n",
       "\n",
       "    .dataframe tbody tr th {\n",
       "        vertical-align: top;\n",
       "    }\n",
       "\n",
       "    .dataframe thead th {\n",
       "        text-align: right;\n",
       "    }\n",
       "</style>\n",
       "<table border=\"1\" class=\"dataframe\">\n",
       "  <thead>\n",
       "    <tr style=\"text-align: right;\">\n",
       "      <th></th>\n",
       "      <th>Acc_X</th>\n",
       "      <th>Acc_Y</th>\n",
       "      <th>Acc_Z</th>\n",
       "      <th>Label</th>\n",
       "    </tr>\n",
       "  </thead>\n",
       "  <tbody>\n",
       "    <tr>\n",
       "      <th>0</th>\n",
       "      <td>0.009216</td>\n",
       "      <td>0.038452</td>\n",
       "      <td>-0.118774</td>\n",
       "      <td>5</td>\n",
       "    </tr>\n",
       "    <tr>\n",
       "      <th>1</th>\n",
       "      <td>0.017151</td>\n",
       "      <td>0.040955</td>\n",
       "      <td>-0.117798</td>\n",
       "      <td>5</td>\n",
       "    </tr>\n",
       "    <tr>\n",
       "      <th>2</th>\n",
       "      <td>0.014465</td>\n",
       "      <td>0.037170</td>\n",
       "      <td>-0.116638</td>\n",
       "      <td>5</td>\n",
       "    </tr>\n",
       "    <tr>\n",
       "      <th>3</th>\n",
       "      <td>0.013489</td>\n",
       "      <td>0.038513</td>\n",
       "      <td>-0.125549</td>\n",
       "      <td>5</td>\n",
       "    </tr>\n",
       "    <tr>\n",
       "      <th>4</th>\n",
       "      <td>0.012573</td>\n",
       "      <td>0.035339</td>\n",
       "      <td>-0.119141</td>\n",
       "      <td>5</td>\n",
       "    </tr>\n",
       "    <tr>\n",
       "      <th>5</th>\n",
       "      <td>0.013977</td>\n",
       "      <td>0.038330</td>\n",
       "      <td>-0.122681</td>\n",
       "      <td>5</td>\n",
       "    </tr>\n",
       "    <tr>\n",
       "      <th>6</th>\n",
       "      <td>0.015625</td>\n",
       "      <td>0.038269</td>\n",
       "      <td>-0.118958</td>\n",
       "      <td>5</td>\n",
       "    </tr>\n",
       "    <tr>\n",
       "      <th>7</th>\n",
       "      <td>0.020386</td>\n",
       "      <td>0.030212</td>\n",
       "      <td>-0.126282</td>\n",
       "      <td>5</td>\n",
       "    </tr>\n",
       "    <tr>\n",
       "      <th>8</th>\n",
       "      <td>0.007019</td>\n",
       "      <td>0.033875</td>\n",
       "      <td>-0.118042</td>\n",
       "      <td>5</td>\n",
       "    </tr>\n",
       "    <tr>\n",
       "      <th>9</th>\n",
       "      <td>0.013550</td>\n",
       "      <td>0.037231</td>\n",
       "      <td>-0.111572</td>\n",
       "      <td>5</td>\n",
       "    </tr>\n",
       "    <tr>\n",
       "      <th>10</th>\n",
       "      <td>0.018250</td>\n",
       "      <td>0.038330</td>\n",
       "      <td>-0.121521</td>\n",
       "      <td>5</td>\n",
       "    </tr>\n",
       "    <tr>\n",
       "      <th>11</th>\n",
       "      <td>0.016846</td>\n",
       "      <td>0.035767</td>\n",
       "      <td>-0.119019</td>\n",
       "      <td>5</td>\n",
       "    </tr>\n",
       "    <tr>\n",
       "      <th>12</th>\n",
       "      <td>0.012268</td>\n",
       "      <td>0.035034</td>\n",
       "      <td>-0.117554</td>\n",
       "      <td>5</td>\n",
       "    </tr>\n",
       "    <tr>\n",
       "      <th>13</th>\n",
       "      <td>0.016907</td>\n",
       "      <td>0.037842</td>\n",
       "      <td>-0.121338</td>\n",
       "      <td>5</td>\n",
       "    </tr>\n",
       "    <tr>\n",
       "      <th>14</th>\n",
       "      <td>0.014771</td>\n",
       "      <td>0.030762</td>\n",
       "      <td>-0.115662</td>\n",
       "      <td>5</td>\n",
       "    </tr>\n",
       "    <tr>\n",
       "      <th>15</th>\n",
       "      <td>0.008911</td>\n",
       "      <td>0.035767</td>\n",
       "      <td>-0.117798</td>\n",
       "      <td>5</td>\n",
       "    </tr>\n",
       "    <tr>\n",
       "      <th>16</th>\n",
       "      <td>0.010925</td>\n",
       "      <td>0.041016</td>\n",
       "      <td>-0.110352</td>\n",
       "      <td>5</td>\n",
       "    </tr>\n",
       "    <tr>\n",
       "      <th>17</th>\n",
       "      <td>0.009338</td>\n",
       "      <td>0.038696</td>\n",
       "      <td>-0.121704</td>\n",
       "      <td>5</td>\n",
       "    </tr>\n",
       "    <tr>\n",
       "      <th>18</th>\n",
       "      <td>0.008301</td>\n",
       "      <td>0.036072</td>\n",
       "      <td>-0.115173</td>\n",
       "      <td>5</td>\n",
       "    </tr>\n",
       "    <tr>\n",
       "      <th>19</th>\n",
       "      <td>0.015198</td>\n",
       "      <td>0.043274</td>\n",
       "      <td>-0.119080</td>\n",
       "      <td>5</td>\n",
       "    </tr>\n",
       "    <tr>\n",
       "      <th>20</th>\n",
       "      <td>0.014648</td>\n",
       "      <td>0.039673</td>\n",
       "      <td>-0.118042</td>\n",
       "      <td>5</td>\n",
       "    </tr>\n",
       "    <tr>\n",
       "      <th>21</th>\n",
       "      <td>0.014343</td>\n",
       "      <td>0.034302</td>\n",
       "      <td>-0.117859</td>\n",
       "      <td>5</td>\n",
       "    </tr>\n",
       "    <tr>\n",
       "      <th>22</th>\n",
       "      <td>0.010010</td>\n",
       "      <td>0.039429</td>\n",
       "      <td>-0.120728</td>\n",
       "      <td>5</td>\n",
       "    </tr>\n",
       "    <tr>\n",
       "      <th>23</th>\n",
       "      <td>0.014343</td>\n",
       "      <td>0.040710</td>\n",
       "      <td>-0.118591</td>\n",
       "      <td>5</td>\n",
       "    </tr>\n",
       "    <tr>\n",
       "      <th>24</th>\n",
       "      <td>0.012634</td>\n",
       "      <td>0.036499</td>\n",
       "      <td>-0.115234</td>\n",
       "      <td>5</td>\n",
       "    </tr>\n",
       "    <tr>\n",
       "      <th>25</th>\n",
       "      <td>0.015686</td>\n",
       "      <td>0.036621</td>\n",
       "      <td>-0.121338</td>\n",
       "      <td>5</td>\n",
       "    </tr>\n",
       "    <tr>\n",
       "      <th>26</th>\n",
       "      <td>0.015686</td>\n",
       "      <td>0.038330</td>\n",
       "      <td>-0.124329</td>\n",
       "      <td>5</td>\n",
       "    </tr>\n",
       "    <tr>\n",
       "      <th>27</th>\n",
       "      <td>0.019348</td>\n",
       "      <td>0.035950</td>\n",
       "      <td>-0.116577</td>\n",
       "      <td>5</td>\n",
       "    </tr>\n",
       "    <tr>\n",
       "      <th>28</th>\n",
       "      <td>0.016235</td>\n",
       "      <td>0.040588</td>\n",
       "      <td>-0.118469</td>\n",
       "      <td>5</td>\n",
       "    </tr>\n",
       "    <tr>\n",
       "      <th>29</th>\n",
       "      <td>0.014221</td>\n",
       "      <td>0.040894</td>\n",
       "      <td>-0.119324</td>\n",
       "      <td>5</td>\n",
       "    </tr>\n",
       "    <tr>\n",
       "      <th>...</th>\n",
       "      <td>...</td>\n",
       "      <td>...</td>\n",
       "      <td>...</td>\n",
       "      <td>...</td>\n",
       "    </tr>\n",
       "    <tr>\n",
       "      <th>64605</th>\n",
       "      <td>0.214539</td>\n",
       "      <td>0.127136</td>\n",
       "      <td>0.068909</td>\n",
       "      <td>0</td>\n",
       "    </tr>\n",
       "    <tr>\n",
       "      <th>64606</th>\n",
       "      <td>0.220337</td>\n",
       "      <td>0.120789</td>\n",
       "      <td>0.027771</td>\n",
       "      <td>0</td>\n",
       "    </tr>\n",
       "    <tr>\n",
       "      <th>64607</th>\n",
       "      <td>0.218445</td>\n",
       "      <td>0.126282</td>\n",
       "      <td>0.056641</td>\n",
       "      <td>0</td>\n",
       "    </tr>\n",
       "    <tr>\n",
       "      <th>64608</th>\n",
       "      <td>0.218079</td>\n",
       "      <td>0.121521</td>\n",
       "      <td>0.059448</td>\n",
       "      <td>0</td>\n",
       "    </tr>\n",
       "    <tr>\n",
       "      <th>64609</th>\n",
       "      <td>0.219666</td>\n",
       "      <td>0.133728</td>\n",
       "      <td>0.037292</td>\n",
       "      <td>0</td>\n",
       "    </tr>\n",
       "    <tr>\n",
       "      <th>64610</th>\n",
       "      <td>0.218018</td>\n",
       "      <td>0.128357</td>\n",
       "      <td>0.057983</td>\n",
       "      <td>0</td>\n",
       "    </tr>\n",
       "    <tr>\n",
       "      <th>64611</th>\n",
       "      <td>0.212646</td>\n",
       "      <td>0.129883</td>\n",
       "      <td>0.040039</td>\n",
       "      <td>0</td>\n",
       "    </tr>\n",
       "    <tr>\n",
       "      <th>64612</th>\n",
       "      <td>0.222656</td>\n",
       "      <td>0.123108</td>\n",
       "      <td>0.053711</td>\n",
       "      <td>0</td>\n",
       "    </tr>\n",
       "    <tr>\n",
       "      <th>64613</th>\n",
       "      <td>0.223267</td>\n",
       "      <td>0.119019</td>\n",
       "      <td>0.053406</td>\n",
       "      <td>0</td>\n",
       "    </tr>\n",
       "    <tr>\n",
       "      <th>64614</th>\n",
       "      <td>0.209351</td>\n",
       "      <td>0.128845</td>\n",
       "      <td>0.049072</td>\n",
       "      <td>0</td>\n",
       "    </tr>\n",
       "    <tr>\n",
       "      <th>64615</th>\n",
       "      <td>0.218445</td>\n",
       "      <td>0.130615</td>\n",
       "      <td>0.038086</td>\n",
       "      <td>0</td>\n",
       "    </tr>\n",
       "    <tr>\n",
       "      <th>64616</th>\n",
       "      <td>0.219421</td>\n",
       "      <td>0.129700</td>\n",
       "      <td>0.044373</td>\n",
       "      <td>0</td>\n",
       "    </tr>\n",
       "    <tr>\n",
       "      <th>64617</th>\n",
       "      <td>0.216736</td>\n",
       "      <td>0.121338</td>\n",
       "      <td>0.035706</td>\n",
       "      <td>0</td>\n",
       "    </tr>\n",
       "    <tr>\n",
       "      <th>64618</th>\n",
       "      <td>0.221680</td>\n",
       "      <td>0.125427</td>\n",
       "      <td>0.027344</td>\n",
       "      <td>0</td>\n",
       "    </tr>\n",
       "    <tr>\n",
       "      <th>64619</th>\n",
       "      <td>0.223511</td>\n",
       "      <td>0.124268</td>\n",
       "      <td>0.079590</td>\n",
       "      <td>0</td>\n",
       "    </tr>\n",
       "    <tr>\n",
       "      <th>64620</th>\n",
       "      <td>0.219788</td>\n",
       "      <td>0.129944</td>\n",
       "      <td>0.046509</td>\n",
       "      <td>0</td>\n",
       "    </tr>\n",
       "    <tr>\n",
       "      <th>64621</th>\n",
       "      <td>0.203857</td>\n",
       "      <td>0.138123</td>\n",
       "      <td>0.044861</td>\n",
       "      <td>0</td>\n",
       "    </tr>\n",
       "    <tr>\n",
       "      <th>64622</th>\n",
       "      <td>0.210327</td>\n",
       "      <td>0.128235</td>\n",
       "      <td>0.050476</td>\n",
       "      <td>0</td>\n",
       "    </tr>\n",
       "    <tr>\n",
       "      <th>64623</th>\n",
       "      <td>0.229309</td>\n",
       "      <td>0.126221</td>\n",
       "      <td>0.045288</td>\n",
       "      <td>0</td>\n",
       "    </tr>\n",
       "    <tr>\n",
       "      <th>64624</th>\n",
       "      <td>0.215820</td>\n",
       "      <td>0.126892</td>\n",
       "      <td>0.040039</td>\n",
       "      <td>0</td>\n",
       "    </tr>\n",
       "    <tr>\n",
       "      <th>64625</th>\n",
       "      <td>0.214966</td>\n",
       "      <td>0.130554</td>\n",
       "      <td>0.028564</td>\n",
       "      <td>0</td>\n",
       "    </tr>\n",
       "    <tr>\n",
       "      <th>64626</th>\n",
       "      <td>0.218567</td>\n",
       "      <td>0.123901</td>\n",
       "      <td>0.046814</td>\n",
       "      <td>0</td>\n",
       "    </tr>\n",
       "    <tr>\n",
       "      <th>64627</th>\n",
       "      <td>0.203369</td>\n",
       "      <td>0.128174</td>\n",
       "      <td>0.069336</td>\n",
       "      <td>0</td>\n",
       "    </tr>\n",
       "    <tr>\n",
       "      <th>64628</th>\n",
       "      <td>0.219238</td>\n",
       "      <td>0.132385</td>\n",
       "      <td>0.045227</td>\n",
       "      <td>0</td>\n",
       "    </tr>\n",
       "    <tr>\n",
       "      <th>64629</th>\n",
       "      <td>0.215454</td>\n",
       "      <td>0.126587</td>\n",
       "      <td>0.043152</td>\n",
       "      <td>0</td>\n",
       "    </tr>\n",
       "    <tr>\n",
       "      <th>64630</th>\n",
       "      <td>0.222473</td>\n",
       "      <td>0.123779</td>\n",
       "      <td>0.051025</td>\n",
       "      <td>0</td>\n",
       "    </tr>\n",
       "    <tr>\n",
       "      <th>64631</th>\n",
       "      <td>0.217896</td>\n",
       "      <td>0.125793</td>\n",
       "      <td>0.103638</td>\n",
       "      <td>0</td>\n",
       "    </tr>\n",
       "    <tr>\n",
       "      <th>64632</th>\n",
       "      <td>0.207275</td>\n",
       "      <td>0.118591</td>\n",
       "      <td>0.069275</td>\n",
       "      <td>0</td>\n",
       "    </tr>\n",
       "    <tr>\n",
       "      <th>64633</th>\n",
       "      <td>0.216370</td>\n",
       "      <td>0.125122</td>\n",
       "      <td>0.072754</td>\n",
       "      <td>0</td>\n",
       "    </tr>\n",
       "    <tr>\n",
       "      <th>64634</th>\n",
       "      <td>0.215820</td>\n",
       "      <td>0.115723</td>\n",
       "      <td>0.035461</td>\n",
       "      <td>0</td>\n",
       "    </tr>\n",
       "  </tbody>\n",
       "</table>\n",
       "<p>64635 rows × 4 columns</p>\n",
       "</div>"
      ],
      "text/plain": [
       "          Acc_X     Acc_Y     Acc_Z  Label\n",
       "0      0.009216  0.038452 -0.118774      5\n",
       "1      0.017151  0.040955 -0.117798      5\n",
       "2      0.014465  0.037170 -0.116638      5\n",
       "3      0.013489  0.038513 -0.125549      5\n",
       "4      0.012573  0.035339 -0.119141      5\n",
       "5      0.013977  0.038330 -0.122681      5\n",
       "6      0.015625  0.038269 -0.118958      5\n",
       "7      0.020386  0.030212 -0.126282      5\n",
       "8      0.007019  0.033875 -0.118042      5\n",
       "9      0.013550  0.037231 -0.111572      5\n",
       "10     0.018250  0.038330 -0.121521      5\n",
       "11     0.016846  0.035767 -0.119019      5\n",
       "12     0.012268  0.035034 -0.117554      5\n",
       "13     0.016907  0.037842 -0.121338      5\n",
       "14     0.014771  0.030762 -0.115662      5\n",
       "15     0.008911  0.035767 -0.117798      5\n",
       "16     0.010925  0.041016 -0.110352      5\n",
       "17     0.009338  0.038696 -0.121704      5\n",
       "18     0.008301  0.036072 -0.115173      5\n",
       "19     0.015198  0.043274 -0.119080      5\n",
       "20     0.014648  0.039673 -0.118042      5\n",
       "21     0.014343  0.034302 -0.117859      5\n",
       "22     0.010010  0.039429 -0.120728      5\n",
       "23     0.014343  0.040710 -0.118591      5\n",
       "24     0.012634  0.036499 -0.115234      5\n",
       "25     0.015686  0.036621 -0.121338      5\n",
       "26     0.015686  0.038330 -0.124329      5\n",
       "27     0.019348  0.035950 -0.116577      5\n",
       "28     0.016235  0.040588 -0.118469      5\n",
       "29     0.014221  0.040894 -0.119324      5\n",
       "...         ...       ...       ...    ...\n",
       "64605  0.214539  0.127136  0.068909      0\n",
       "64606  0.220337  0.120789  0.027771      0\n",
       "64607  0.218445  0.126282  0.056641      0\n",
       "64608  0.218079  0.121521  0.059448      0\n",
       "64609  0.219666  0.133728  0.037292      0\n",
       "64610  0.218018  0.128357  0.057983      0\n",
       "64611  0.212646  0.129883  0.040039      0\n",
       "64612  0.222656  0.123108  0.053711      0\n",
       "64613  0.223267  0.119019  0.053406      0\n",
       "64614  0.209351  0.128845  0.049072      0\n",
       "64615  0.218445  0.130615  0.038086      0\n",
       "64616  0.219421  0.129700  0.044373      0\n",
       "64617  0.216736  0.121338  0.035706      0\n",
       "64618  0.221680  0.125427  0.027344      0\n",
       "64619  0.223511  0.124268  0.079590      0\n",
       "64620  0.219788  0.129944  0.046509      0\n",
       "64621  0.203857  0.138123  0.044861      0\n",
       "64622  0.210327  0.128235  0.050476      0\n",
       "64623  0.229309  0.126221  0.045288      0\n",
       "64624  0.215820  0.126892  0.040039      0\n",
       "64625  0.214966  0.130554  0.028564      0\n",
       "64626  0.218567  0.123901  0.046814      0\n",
       "64627  0.203369  0.128174  0.069336      0\n",
       "64628  0.219238  0.132385  0.045227      0\n",
       "64629  0.215454  0.126587  0.043152      0\n",
       "64630  0.222473  0.123779  0.051025      0\n",
       "64631  0.217896  0.125793  0.103638      0\n",
       "64632  0.207275  0.118591  0.069275      0\n",
       "64633  0.216370  0.125122  0.072754      0\n",
       "64634  0.215820  0.115723  0.035461      0\n",
       "\n",
       "[64635 rows x 4 columns]"
      ]
     },
     "execution_count": 14,
     "metadata": {},
     "output_type": "execute_result"
    }
   ],
   "source": [
    "import glob \n",
    "data_file = glob.glob('../../Dataset/User2/*')[3]\n",
    "data_file\n",
    "import pandas as pd\n",
    "col = ['Acc_X', 'Acc_Y', 'Acc_Z', 'Label']\n",
    "data = pd.read_csv(data_file, usecols=col)"
   ]
  },
  {
   "cell_type": "markdown",
   "metadata": {},
   "source": [
    "#### get the categorized data from all data sets"
   ]
  },
  {
   "cell_type": "code",
   "execution_count": 25,
   "metadata": {},
   "outputs": [],
   "source": [
    "from api import *\n",
    "temp_folder = 'test_categorized/'\n",
    "labels, categorized_data = categorize_data(data, path=temp_folder)\n",
    "# categorized_data consist of tuples with dataframe and label"
   ]
  },
  {
   "cell_type": "code",
   "execution_count": 29,
   "metadata": {},
   "outputs": [],
   "source": [
    "test_data, test_label = categorized_data[0]"
   ]
  },
  {
   "cell_type": "markdown",
   "metadata": {},
   "source": [
    "#### create segments for data"
   ]
  },
  {
   "cell_type": "code",
   "execution_count": 45,
   "metadata": {},
   "outputs": [],
   "source": [
    "segs = create_segs(test_data, 36*5)"
   ]
  },
  {
   "cell_type": "markdown",
   "metadata": {},
   "source": [
    "#### calculate matrix with function given"
   ]
  },
  {
   "cell_type": "code",
   "execution_count": 62,
   "metadata": {},
   "outputs": [],
   "source": [
    "from dtw_lib import _dtw_lib\n",
    "relax = 1\n",
    "from scipy.spatial.distance import euclidean\n",
    "f = lambda x, y: _dtw_lib.fastdtw(x, y, relax=relax, dist=euclidean )[0] #fast"
   ]
  },
  {
   "cell_type": "code",
   "execution_count": 66,
   "metadata": {},
   "outputs": [],
   "source": [
    "matrix = calculate_matrix(segs, f)"
   ]
  },
  {
   "cell_type": "markdown",
   "metadata": {},
   "source": [
    "#### get the result of hieratical clustering"
   ]
  },
  {
   "cell_type": "code",
   "execution_count": null,
   "metadata": {},
   "outputs": [],
   "source": [
    "label_matrix = get_hieratical_cluster(matrix, 3)  # will return numpy array with cluster index\n",
    "clusters = convert_label_to_clusters(label_matrix)"
   ]
  },
  {
   "cell_type": "markdown",
   "metadata": {},
   "source": [
    "#### get the medoids"
   ]
  },
  {
   "cell_type": "code",
   "execution_count": 80,
   "metadata": {},
   "outputs": [],
   "source": [
    "get_medoid(clusters[0], matrix, segs) # get one medoid\n",
    "represents = get_represents(matrix, segs, 3, 0) # get all medoids, returns list of (medoids, D)"
   ]
  },
  {
   "cell_type": "markdown",
   "metadata": {},
   "source": [
    "#### get the classification result"
   ]
  },
  {
   "cell_type": "code",
   "execution_count": 91,
   "metadata": {},
   "outputs": [
    {
     "data": {
      "text/plain": [
       "[0, 0]"
      ]
     },
     "execution_count": 91,
     "metadata": {},
     "output_type": "execute_result"
    }
   ],
   "source": [
    "seg = segs[0]\n",
    "classify(represents, seg, f, top=2)"
   ]
  },
  {
   "cell_type": "markdown",
   "metadata": {},
   "source": [
    "#### do evaluation with test segs and test labels"
   ]
  },
  {
   "cell_type": "code",
   "execution_count": 101,
   "metadata": {},
   "outputs": [
    {
     "data": {
      "text/plain": [
       "0.5"
      ]
     },
     "execution_count": 101,
     "metadata": {},
     "output_type": "execute_result"
    }
   ],
   "source": [
    "test_segs = segs[:10]\n",
    "test_labels = [0 for _ in range(10)]\n",
    "evaluate(test_segs, test_labels, represents, f, 1)"
   ]
  },
  {
   "cell_type": "code",
   "execution_count": 98,
   "metadata": {},
   "outputs": [],
   "source": [
    "import importlib\n",
    "import api\n",
    "importlib.reload(api)\n",
    "from api import *"
   ]
  }
 ],
 "metadata": {
  "kernelspec": {
   "display_name": "Python 3",
   "language": "python",
   "name": "python3"
  },
  "language_info": {
   "codemirror_mode": {
    "name": "ipython",
    "version": 3
   },
   "file_extension": ".py",
   "mimetype": "text/x-python",
   "name": "python",
   "nbconvert_exporter": "python",
   "pygments_lexer": "ipython3",
   "version": "3.7.3"
  }
 },
 "nbformat": 4,
 "nbformat_minor": 2
}
