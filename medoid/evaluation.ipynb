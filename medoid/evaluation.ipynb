{
 "cells": [
  {
   "cell_type": "code",
   "execution_count": 1,
   "metadata": {},
   "outputs": [],
   "source": [
    "import pickle\n",
    "def store(files, names):\n",
    "    for i in range(len(files)):\n",
    "        pickle_out = open('data/' + names[i], \"wb\")\n",
    "        pickle.dump(files[i], pickle_out)\n",
    "        pickle_out.close()\n",
    "def load(names):\n",
    "    result = []\n",
    "    for i in names:\n",
    "        pickle_in = open(i, 'rb')\n",
    "        result.append(pickle.load(pickle_in))\n",
    "    return result"
   ]
  },
  {
   "cell_type": "markdown",
   "metadata": {},
   "source": [
    "### get medoid for activities for enough data activities"
   ]
  },
  {
   "cell_type": "code",
   "execution_count": 15,
   "metadata": {},
   "outputs": [],
   "source": [
    "user1_activities = ['Walking', 'Commute in bus', 'Eating using fork and spoon',\n",
    "                    'Using mobile phone(texting)', 'Working on laptop', 'Sitting']\n",
    "num_clusters = [4, 5, 3, 3, 3, 4]"
   ]
  },
  {
   "cell_type": "code",
   "execution_count": 10,
   "metadata": {},
   "outputs": [],
   "source": [
    "# load user1 activity segments\n",
    "user1_segs = []\n",
    "user1_matrix = []\n",
    "for activity in user1_activities:\n",
    "    seg, matrix = load(['data/user1_' + activity + '_segments_5', 'data/user1_' + activity + '_matrix_5'])\n",
    "    user1_segs.append(seg)\n",
    "    user1_matrix.append(matrix)"
   ]
  },
  {
   "cell_type": "code",
   "execution_count": 14,
   "metadata": {},
   "outputs": [],
   "source": [
    "from sklearn.cluster import AgglomerativeClustering\n",
    "def get_hieratical_cluster(activity, num_cluster):\n",
    "    matrix = load(['data/user1_' + activity +  '_matrix_5'])[0]\n",
    "    cluster = AgglomerativeClustering(n_clusters=num_cluster, affinity='precomputed', linkage='complete')  \n",
    "    return cluster.fit_predict(matrix)\n",
    "def convert_label_to_clusters(l):\n",
    "    clusters = [[] for i in range(max(l) + 1)]\n",
    "    for indx, value in enumerate(l):\n",
    "        clusters[value].append(indx)\n",
    "    return clusters"
   ]
  },
  {
   "cell_type": "code",
   "execution_count": 77,
   "metadata": {},
   "outputs": [],
   "source": [
    "# function for get medoids base on one cluster\n",
    "# returns the medoid index and the medoid average distance value\n",
    "def get_medoid(cluster, matrix):\n",
    "    dis = [0 for _ in range(len(cluster))]\n",
    "    for i in range(len(cluster)):\n",
    "        for j in cluster:\n",
    "            dis[i] += matrix[cluster[i]][j]\n",
    "    index = np.argmax(dis)\n",
    "    return index, dis[index] / len(cluster)\n",
    "# function to get all the medoids, with one activity\n",
    "def get_medoids(activity):\n",
    "    index = user1_activities.index(activity)\n",
    "    clusters = convert_label_to_clusters(get_hieratical_cluster(activity, num_clusters[index]))\n",
    "    matrix = user1_matrix[index]\n",
    "    medoids = []\n",
    "    for c in clusters:\n",
    "        medoids.append(get_medoid(c, matrix))\n",
    "    return medoids\n",
    "# get the medoids for all the activities\n",
    "def get_all_medoids():\n",
    "    user1_medoids = []\n",
    "    for i in user1_activities:\n",
    "        user1_medoids.append(get_medoids(i))\n",
    "    for i in range(len(user1_medoids)):\n",
    "        user1_medoids[i] = list(map(lambda m: (user1_segs[i][m[0]], m[1], user1_activities[i]), user1_medoids[i]))\n",
    "    flatted = []\n",
    "    for medoids in user1_medoids:\n",
    "        flatted.extend(medoids)\n",
    "    return flatted"
   ]
  },
  {
   "cell_type": "code",
   "execution_count": 78,
   "metadata": {},
   "outputs": [],
   "source": [
    "# a list of medoids where each medoid is a tuple with seg, average medoid value, and activity\n",
    "user1_medoids = get_all_medoids()"
   ]
  },
  {
   "cell_type": "code",
   "execution_count": 79,
   "metadata": {},
   "outputs": [
    {
     "data": {
      "text/plain": [
       "22"
      ]
     },
     "execution_count": 79,
     "metadata": {},
     "output_type": "execute_result"
    }
   ],
   "source": [
    "len(user1_medoids)"
   ]
  },
  {
   "cell_type": "code",
   "execution_count": 86,
   "metadata": {},
   "outputs": [
    {
     "name": "stdout",
     "output_type": "stream",
     "text": [
      "all_segs.pickle    \u001b[0m\u001b[01;34mdtw_lib\u001b[0m/                 medoid.ipynb    relaxed_dtw_v1.py\r\n",
      "\u001b[01;34mcategorized_data\u001b[0m/  evaluation.ipynb         medoids.pickle  relaxed_dtw_v1.pyc\r\n",
      "clustering.ipynb   fast_relaxed_dtw_v1.py   \u001b[01;35mout.png\u001b[0m         represents.pickle\r\n",
      "\u001b[01;34mdata\u001b[0m/              fast_relaxed_dtw_v1.pyc  \u001b[01;34m__pycache__\u001b[0m/    test.py\r\n"
     ]
    }
   ],
   "source": [
    "ls"
   ]
  },
  {
   "cell_type": "code",
   "execution_count": 1,
   "metadata": {},
   "outputs": [],
   "source": [
    "from dtw_lib import _dtw_lib\n",
    "from scipy.spatial.distance import euclidean\n",
    "\n",
    "def distance(seg1, seg2, relax):\n",
    "    distance, path, D = _dtw_lib.fastdtw(seg1, seg2, relax=relax, dist=euclidean)\n",
    "    return distance"
   ]
  },
  {
   "cell_type": "code",
   "execution_count": 64,
   "metadata": {},
   "outputs": [
    {
     "data": {
      "text/plain": [
       "27.552368406157196"
      ]
     },
     "execution_count": 64,
     "metadata": {},
     "output_type": "execute_result"
    }
   ],
   "source": [
    "def classify(medoids, seg):\n",
    "    result = sorted(medoids, key=lambda m: )"
   ]
  },
  {
   "cell_type": "code",
   "execution_count": 83,
   "metadata": {},
   "outputs": [
    {
     "data": {
      "text/plain": [
       "[6, 5, 4, 3, 1]"
      ]
     },
     "execution_count": 83,
     "metadata": {},
     "output_type": "execute_result"
    }
   ],
   "source": [
    "l = [1,3,4,5,6]\n",
    "sorted(l, key=lambda x: -1*x)"
   ]
  },
  {
   "cell_type": "code",
   "execution_count": 84,
   "metadata": {},
   "outputs": [
    {
     "data": {
      "text/plain": [
       "[1, 3, 4, 5, 6]"
      ]
     },
     "execution_count": 84,
     "metadata": {},
     "output_type": "execute_result"
    }
   ],
   "source": [
    "l"
   ]
  },
  {
   "cell_type": "code",
   "execution_count": null,
   "metadata": {},
   "outputs": [],
   "source": []
  },
  {
   "cell_type": "code",
   "execution_count": null,
   "metadata": {},
   "outputs": [],
   "source": []
  },
  {
   "cell_type": "code",
   "execution_count": null,
   "metadata": {},
   "outputs": [],
   "source": []
  },
  {
   "cell_type": "code",
   "execution_count": null,
   "metadata": {},
   "outputs": [],
   "source": []
  },
  {
   "cell_type": "code",
   "execution_count": null,
   "metadata": {},
   "outputs": [],
   "source": []
  }
 ],
 "metadata": {
  "kernelspec": {
   "display_name": "Python 3",
   "language": "python",
   "name": "python3"
  },
  "language_info": {
   "codemirror_mode": {
    "name": "ipython",
    "version": 3
   },
   "file_extension": ".py",
   "mimetype": "text/x-python",
   "name": "python",
   "nbconvert_exporter": "python",
   "pygments_lexer": "ipython3",
   "version": "3.6.8"
  }
 },
 "nbformat": 4,
 "nbformat_minor": 2
}
