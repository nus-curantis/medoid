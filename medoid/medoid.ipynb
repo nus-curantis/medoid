{
 "cells": [
  {
   "cell_type": "markdown",
   "metadata": {},
   "source": [
    "### categorize data by label"
   ]
  },
  {
   "cell_type": "code",
   "execution_count": 8,
   "metadata": {},
   "outputs": [],
   "source": [
    "activities = ['Walking', 'Running', 'Commute in bus', 'Eating using fork and spoon', \n",
    "             'Using mobile phone(texting)', 'Working on laptop', 'Sitting', 'Washing hands',\n",
    "             'Eating with hand', 'Conversing while sitting', 'Elevator', 'Opening door',\n",
    "             'Standing', 'Climbing upstairs', 'Running']\n",
    "columns = ['Acc_X', 'Acc_Y', 'Acc_Z', 'Gyr_X', 'Gyr_Y', 'Gyr_Z', 'Label']"
   ]
  },
  {
   "cell_type": "code",
   "execution_count": 9,
   "metadata": {},
   "outputs": [],
   "source": [
    "import glob\n",
    "import pandas as pd\n",
    "def categorize():\n",
    "    files = glob.glob(\"../DataSet/*Accelerometer.csv\")\n",
    "    data = pd.DataFrame()\n",
    "    for name in files:\n",
    "        data = data.append(pd.read_csv(name, usecols = columns))\n",
    "    for i in range(len(activities)):\n",
    "        tmp = data.loc[data['Label'] == i]\n",
    "        tmp.to_csv(\"./categorized_data/\" + activities[i] + \".csv\", index=False)\n",
    "# categorize()"
   ]
  },
  {
   "cell_type": "code",
   "execution_count": 10,
   "metadata": {},
   "outputs": [],
   "source": [
    "def get_raw_data(activity):\n",
    "    return pd.read_csv(\"./categorized_data/\" + activity + \".csv\")"
   ]
  },
  {
   "cell_type": "markdown",
   "metadata": {},
   "source": [
    "### create segments with duration default 5"
   ]
  },
  {
   "cell_type": "code",
   "execution_count": 11,
   "metadata": {},
   "outputs": [],
   "source": [
    "from tqdm import tqdm\n",
    "def totoal_a(accs):\n",
    "    import numpy as np\n",
    "#     for i in range(len(accs)):\n",
    "#         accs[i] = (accs[i]  * 3.0 / 63.0 - 1.5) * 9.8\n",
    "    return np.sqrt(np.sum(map(lambda x: np.square(x), accs)))\n",
    "    \n",
    "def create_segs(data, duration):\n",
    "    data = data.iloc[:, :3] # get x, y, z acceleration\n",
    "    result = []\n",
    "    for index, row in data.iterrows():\n",
    "        result.append(totoal_a(list(row)[:3]))\n",
    "    segs = []\n",
    "    length = len(result)\n",
    "    for i in tqdm(range(0, length, 32 * duration)):\n",
    "        if i + duration * 32 <= length:\n",
    "            segs.append(result[i:i + duration * 32])\n",
    "    return segs"
   ]
  },
  {
   "cell_type": "markdown",
   "metadata": {},
   "source": [
    "### calculate the medoid value\n",
    "with the calculation of the distance of all the segementations, use fast relaxed dtw"
   ]
  },
  {
   "cell_type": "code",
   "execution_count": 12,
   "metadata": {},
   "outputs": [],
   "source": [
    "# assume that each segment length is 5 second\n",
    "import numpy as np\n",
    "from fast_relaxed_dtw_v1 import fast_relaxed_dtw\n",
    "\n",
    "def distance(seg1, seg2):\n",
    "    result = 0.0;\n",
    "    dist = lambda x,y : np.abs(x - y)\n",
    "    distance, matrix = fast_relaxed_dtw(seg1, seg2, dist=dist, r=1)\n",
    "    return distance\n",
    "        \n",
    "def find_medoid_seg(segs):\n",
    "    length = len(segs)\n",
    "    result = [0 for i in range(length)]\n",
    "    table = [[-1 for i in range(length)] for i in range(length)] # initialize the table to all -1\n",
    "    for i in tqdm(range(length)):\n",
    "        for j in range(length):\n",
    "            if i == j: \n",
    "                table[i][j] = 0\n",
    "                continue\n",
    "            elif table[j][i] != -1:  # using memoization\n",
    "                result[i] += table[j][i]\n",
    "            else:\n",
    "                table[i][j] = distance(segs[i], segs[j])\n",
    "                result[i] += table[i][j]\n",
    "    min_medoid = min(result)\n",
    "    for i in range(len(result)):\n",
    "        if min_medoid == result[i]:\n",
    "            return segs[i], min_medoid"
   ]
  },
  {
   "cell_type": "markdown",
   "metadata": {},
   "source": [
    "### calculate the medoid value and the representation value for all the activities"
   ]
  },
  {
   "cell_type": "code",
   "execution_count": 15,
   "metadata": {
    "scrolled": true
   },
   "outputs": [
    {
     "name": "stderr",
     "output_type": "stream",
     "text": [
      "100%|██████████| 319/319 [00:00<00:00, 149428.52it/s]\n",
      "100%|██████████| 318/318 [09:37<00:00,  1.82s/it]\n",
      "100%|██████████| 6/6 [00:00<00:00, 2922.52it/s]\n",
      "100%|██████████| 5/5 [00:00<00:00, 44.28it/s]\n",
      "100%|██████████| 195/195 [00:00<00:00, 95726.74it/s]\n",
      "100%|██████████| 194/194 [03:22<00:00,  1.05s/it]\n",
      "100%|██████████| 95/95 [00:00<00:00, 47266.77it/s]\n",
      "100%|██████████| 94/94 [00:46<00:00,  2.04it/s]\n",
      "100%|██████████| 93/93 [00:00<00:00, 42293.21it/s]\n",
      "100%|██████████| 92/92 [00:45<00:00,  2.04it/s]\n",
      "100%|██████████| 936/936 [00:00<00:00, 126400.35it/s]\n",
      "100%|██████████| 935/935 [1:15:58<00:00,  4.88s/it]\n",
      "100%|██████████| 170/170 [00:00<00:00, 94129.59it/s]\n",
      "100%|██████████| 169/169 [02:31<00:00,  1.11it/s]\n",
      "100%|██████████| 3/3 [00:00<00:00, 1456.36it/s]\n",
      "100%|██████████| 2/2 [00:00<00:00, 93.34it/s]\n",
      "100%|██████████| 30/30 [00:00<00:00, 18998.81it/s]\n",
      "100%|██████████| 29/29 [00:04<00:00,  6.47it/s]\n",
      "100%|██████████| 25/25 [00:00<00:00, 12136.30it/s]\n",
      "100%|██████████| 24/24 [00:03<00:00,  7.96it/s]\n",
      "100%|██████████| 47/47 [00:00<00:00, 23906.41it/s]\n",
      "100%|██████████| 46/46 [00:11<00:00,  4.13it/s]\n",
      "100%|██████████| 14/14 [00:00<00:00, 7502.27it/s]\n",
      "100%|██████████| 13/13 [00:00<00:00, 15.13it/s]\n",
      "100%|██████████| 34/34 [00:00<00:00, 16585.99it/s]\n",
      "100%|██████████| 33/33 [00:05<00:00,  6.14it/s]\n",
      "100%|██████████| 10/10 [00:00<00:00, 6574.14it/s]\n",
      "100%|██████████| 9/9 [00:00<00:00, 21.08it/s]\n",
      "100%|██████████| 6/6 [00:00<00:00, 3663.15it/s]\n",
      "100%|██████████| 5/5 [00:00<00:00, 39.75it/s]\n"
     ]
    }
   ],
   "source": [
    "import random\n",
    "all_segments = []\n",
    "medoids = []\n",
    "represent = []\n",
    "for i in range(len(activities)):\n",
    "    segs = create_segs(get_raw_data(activities[i]), 5)\n",
    "    all_segments.append(segs)\n",
    "    seg, medoid = find_medoid_seg(segs)\n",
    "    represent.append(seg)\n",
    "    medoids.append(medoid)"
   ]
  },
  {
   "cell_type": "markdown",
   "metadata": {},
   "source": [
    "### store the all_segments(list of segments by activities), represent(the represent segment for all activities), medoids(all the min medoid value for all activities)"
   ]
  },
  {
   "cell_type": "code",
   "execution_count": 16,
   "metadata": {},
   "outputs": [],
   "source": [
    "import pickle\n",
    "pickle_out = open(\"all_segs.pickle\",\"wb\")\n",
    "pickle.dump(all_segments, pickle_out)\n",
    "pickle_out.close()\n",
    "pickle_out = open(\"represents.pickle\",\"wb\")\n",
    "pickle.dump(represent, pickle_out)\n",
    "pickle_out.close()\n",
    "pickle_out = open(\"medoids.pickle\",\"wb\")\n",
    "pickle.dump(medoids, pickle_out)\n",
    "pickle_out.close()"
   ]
  },
  {
   "cell_type": "markdown",
   "metadata": {},
   "source": [
    "### load the stored data"
   ]
  },
  {
   "cell_type": "code",
   "execution_count": 2,
   "metadata": {},
   "outputs": [],
   "source": [
    "import random\n",
    "import pickle\n",
    "pickle_in = open(\"all_segs.pickle\",\"rb\")\n",
    "all_segments = pickle.load(pickle_in)\n",
    "pickle_in = open(\"represents.pickle\",\"rb\")\n",
    "represent = pickle.load(pickle_in)\n",
    "pickle_in = open(\"medoids.pickle\",\"rb\")\n",
    "medoids = pickle.load(pickle_in)"
   ]
  },
  {
   "cell_type": "code",
   "execution_count": 3,
   "metadata": {},
   "outputs": [
    {
     "data": {
      "text/plain": [
       "[2772.7041424815684,\n",
       " 29.885354381331425,\n",
       " 303.4978189668674,\n",
       " 190.62463045920623,\n",
       " 169.47571650573934,\n",
       " 2994.374040940486,\n",
       " 551.4763586735302,\n",
       " 4.9009863367860795,\n",
       " 95.76310773094454,\n",
       " 24.97250267544078,\n",
       " 297.5706225255236,\n",
       " 129.0512043846312,\n",
       " 312.865298995132,\n",
       " 52.854714179945084,\n",
       " 29.885354381331425]"
      ]
     },
     "execution_count": 3,
     "metadata": {},
     "output_type": "execute_result"
    }
   ],
   "source": [
    "medoids"
   ]
  },
  {
   "cell_type": "markdown",
   "metadata": {},
   "source": [
    "### expend all the segs "
   ]
  },
  {
   "cell_type": "code",
   "execution_count": 20,
   "metadata": {},
   "outputs": [],
   "source": [
    "all_seg_seperate = []\n",
    "for i in range(len(all_segments)):\n",
    "    all_seg_seperate.extend(map(lambda x: [x, activities[i]], all_segments[i]))"
   ]
  },
  {
   "cell_type": "code",
   "execution_count": null,
   "metadata": {},
   "outputs": [],
   "source": [
    "medoid_seg\n",
    "import plotly\n",
    "import plotly.plotly as py\n",
    "plotly.tools.set_credentials_file(username='mr_lancelot', api_key='WJcSyvZ1Ne3mTosBtlwc')\n",
    "import plotly.graph_objs as go\n",
    "# trace0 = go.Scatter(\n",
    "#     y=medoid_seg[0]\n",
    "# )\n",
    "# data = [trace0]\n",
    "# py.iplot(data)"
   ]
  },
  {
   "cell_type": "markdown",
   "metadata": {},
   "source": [
    "###  use medoid to classify the activity\n",
    "the classify will return a list of activity which match to the min_distance to all the represents"
   ]
  },
  {
   "cell_type": "code",
   "execution_count": 13,
   "metadata": {},
   "outputs": [],
   "source": [
    "def classify(medoids, seg):\n",
    "    dist = [-1 for i in range(len(medoids))]\n",
    "    for i in range(len(medoids)):\n",
    "        dist[i] = distance(medoids[i], seg)\n",
    "    min_medoid = min(dist)\n",
    "    result = []\n",
    "    for i in range(len(dist)):\n",
    "        if dist[i] == min_medoid:\n",
    "            result.append(activities[i])\n",
    "    final = result[0]\n",
    "    for i in range(1, len(result)):\n",
    "        final += \" or \" + result[i]\n",
    "    return final"
   ]
  },
  {
   "cell_type": "markdown",
   "metadata": {},
   "source": [
    "### evaluate the medoids, with 100 random data and return the percentage of correctness"
   ]
  },
  {
   "cell_type": "code",
   "execution_count": 77,
   "metadata": {},
   "outputs": [],
   "source": [
    "def evaluate():\n",
    "    test = random.sample(all_seg_seperate, 100)\n",
    "    count = 0\n",
    "    for i in range(50):\n",
    "        result = classify(represent, test[i][0])\n",
    "        if test[i][1] in result: \n",
    "            count += 1\n",
    "    #     print \"correct is --->\" + test[i][1]\n",
    "    #     print \"clasify is --->\" + result\n",
    "    #     print \"\\n\"\n",
    "    print count / 100.0 "
   ]
  },
  {
   "cell_type": "code",
   "execution_count": 78,
   "metadata": {},
   "outputs": [
    {
     "name": "stdout",
     "output_type": "stream",
     "text": [
      "0.24\n",
      "0.22\n",
      "0.16\n",
      "0.16\n",
      "0.22\n",
      "0.14\n",
      "0.12\n",
      "0.23\n",
      "0.15\n",
      "0.18\n"
     ]
    }
   ],
   "source": [
    "for i in range(10):\n",
    "    evaluate()"
   ]
  },
  {
   "cell_type": "markdown",
   "metadata": {},
   "source": [
    "### calculate the distance matrix for a random sample of segments\n",
    "the visualization is not accurate, just a trival approach"
   ]
  },
  {
   "cell_type": "code",
   "execution_count": 17,
   "metadata": {},
   "outputs": [],
   "source": [
    "import numpy as np\n",
    "import string\n",
    "\n",
    "test = random.sample(all_segments[0], 200)\n",
    "length = len(test)\n",
    "table = [[0 for i in range(length)] for i in range(length)]\n",
    "for i in range(length):\n",
    "    for j in range(length):\n",
    "        if i == j:\n",
    "            table[i][j] = 0\n",
    "        elif i < j:\n",
    "            table[i][j] = distance(test[i], test[j])\n",
    "            table[j][i] = table[i][j]\n",
    "        else:\n",
    "            continue"
   ]
  },
  {
   "cell_type": "code",
   "execution_count": 18,
   "metadata": {},
   "outputs": [
    {
     "data": {
      "image/png": "[encoded data removed]",
      "text/plain": [
       "<Figure size 432x288 with 1 Axes>"
      ]
     },
     "metadata": {
      "needs_background": "light"
     },
     "output_type": "display_data"
    }
   ],
   "source": [
    "from sklearn.decomposition import PCA\n",
    "from matplotlib import pyplot as plt\n",
    "data = np.array(table)\n",
    "pca = PCA(n_components=2)\n",
    "coor = pca.fit_transform(data)\n",
    "x, y = np.array(coor).T\n",
    "plt.scatter(x, y)\n",
    "plt.show()"
   ]
  },
  {
   "cell_type": "markdown",
   "metadata": {},
   "source": [
    "### another approach for visualization clustering, will print edges as well, time consuming"
   ]
  },
  {
   "cell_type": "code",
   "execution_count": 42,
   "metadata": {},
   "outputs": [],
   "source": [
    "import networkx as nx\n",
    "dt = [('len', float)]\n",
    "A = np.array(table)\n",
    "A = A.view(dt)\n",
    "\n",
    "G = nx.from_numpy_matrix(A)\n",
    "G = nx.relabel_nodes(G, dict(zip(range(len(G.nodes())),string.ascii_uppercase)))    \n",
    "G = nx.drawing.nx_agraph.to_agraph(G)\n",
    "# edges = list(G.edges())\n",
    "# G.remove_edges_from(edges)\n",
    "# G.node_attr.update(color=\"red\", style=\"filled\")\n",
    "G.edge_attr.update(color=\"white\")\n",
    "G.draw('./out.png', format='png', prog='neato')"
   ]
  },
  {
   "cell_type": "code",
   "execution_count": 314,
   "metadata": {},
   "outputs": [
    {
     "data": {
      "text/plain": [
       "array([[ 58.91121437,  -5.99548056],\n",
       "       [ -2.64637306,  19.10169791],\n",
       "       [-21.17254535,  -4.03570441],\n",
       "       [-35.09229595,  -9.07051294]])"
      ]
     },
     "execution_count": 314,
     "metadata": {},
     "output_type": "execute_result"
    }
   ],
   "source": [
    "import numpy as np\n",
    "from sklearn.decomposition import PCA\n",
    "from matplotlib import pyplot as plt\n",
    "A = np.array([(0, 1,2,3),\n",
    "               (1, 0, 0.9, 0.2),\n",
    "               (2, 0.9, 0, 0.1),\n",
    "               (3, 0.2, 0.1, 0)\n",
    "               ]) * 20\n",
    "pca = PCA(n_components=2)\n",
    "X2d = pca.fit_transform(A)\n",
    "X2d"
   ]
  },
  {
   "cell_type": "code",
   "execution_count": 324,
   "metadata": {},
   "outputs": [
    {
     "name": "stdout",
     "output_type": "stream",
     "text": [
      "[[-5.75393585e+01  8.16496429e-01]\n",
      " [-5.81244262e+01 -8.13747648e-01]\n",
      " [ 1.15663785e+02 -2.74878088e-03]]\n"
     ]
    },
    {
     "data": {
      "image/png": "[encoded data removed]",
      "text/plain": [
       "<Figure size 432x288 with 1 Axes>"
      ]
     },
     "metadata": {
      "needs_background": "light"
     },
     "output_type": "display_data"
    }
   ],
   "source": [
    "A = np.array([(0, 1, 100),\n",
    "               (1, 0, 101),\n",
    "               (100, 101, 0)\n",
    "               ])\n",
    "pca = PCA(n_components=2)\n",
    "X2d = pca.fit_transform(A)\n",
    "print X2d\n",
    "x, y = np.array(X2d).T\n",
    "plt.scatter(x,y)\n",
    "plt.show();"
   ]
  }
 ],
 "metadata": {
  "kernelspec": {
   "display_name": "Python 2",
   "language": "python",
   "name": "python2"
  },
  "language_info": {
   "codemirror_mode": {
    "name": "ipython",
    "version": 2
   },
   "file_extension": ".py",
   "mimetype": "text/x-python",
   "name": "python",
   "nbconvert_exporter": "python",
   "pygments_lexer": "ipython2",
   "version": "2.7.10"
  }
 },
 "nbformat": 4,
 "nbformat_minor": 2
}
