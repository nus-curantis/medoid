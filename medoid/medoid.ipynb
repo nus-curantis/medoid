{
 "cells": [
  {
   "cell_type": "markdown",
   "metadata": {},
   "source": [
    "### categorize data by label"
   ]
  },
  {
   "cell_type": "code",
   "execution_count": 24,
   "metadata": {},
   "outputs": [],
   "source": [
    "activities = ['Walking', 'Running', 'Commute in bus', 'Eating using fork and spoon', \n",
    "             'Using mobile phone(texting)', 'Working on laptop', 'Sitting', 'Washing hands',\n",
    "             'Eating with hand', 'Conversing while sitting', 'Elevator', 'Opening door',\n",
    "             'Standing', 'Climbing upstairs', 'jogging']\n",
    "columns = ['Acc_X', 'Acc_Y', 'Acc_Z', 'Gyr_X', 'Gyr_Y', 'Gyr_Z', 'Label']"
   ]
  },
  {
   "cell_type": "code",
   "execution_count": 3,
   "metadata": {},
   "outputs": [],
   "source": [
    "import glob\n",
    "import pandas as pd\n",
    "def categorize():\n",
    "    files = glob.glob(\"../DataSet/*Accelerometer.csv\")\n",
    "    data = pd.DataFrame()\n",
    "    for name in files:\n",
    "        data = data.append(pd.read_csv(name, usecols = columns))\n",
    "    for i in range(len(activities)):\n",
    "        tmp = data.loc[data['Label'] == i]\n",
    "        tmp.to_csv(\"./categorized_data/\" + activities[i] + \".csv\", index=False)\n",
    "# categorize()"
   ]
  },
  {
   "cell_type": "code",
   "execution_count": 4,
   "metadata": {},
   "outputs": [],
   "source": [
    "def get_raw_data(activity):\n",
    "    return pd.read_csv(\"./categorized_data/\" + activity + \".csv\")"
   ]
  },
  {
   "cell_type": "markdown",
   "metadata": {},
   "source": [
    "### create segments with duration default 5"
   ]
  },
  {
   "cell_type": "code",
   "execution_count": 5,
   "metadata": {},
   "outputs": [],
   "source": [
    "from tqdm import tqdm\n",
    "def totoal_a(accs):\n",
    "    import numpy as np\n",
    "#     for i in range(len(accs)):\n",
    "#         accs[i] = (accs[i]  * 3.0 / 63.0 - 1.5) * 9.8\n",
    "    return np.sqrt(np.sum(map(lambda x: np.square(x), accs)))\n",
    "    \n",
    "def create_segs(data, duration):\n",
    "    data = data.iloc[:, :3] # get x, y, z acceleration\n",
    "    result = []\n",
    "    for index, row in data.iterrows():\n",
    "        result.append(totoal_a(list(row)[:3]))\n",
    "    segs = []\n",
    "    length = len(result)\n",
    "    for i in tqdm(range(0, length, 32 * duration)):\n",
    "        if i + duration * 32 <= length:\n",
    "            segs.append(result[i:i + duration * 32])\n",
    "    return segs"
   ]
  },
  {
   "cell_type": "markdown",
   "metadata": {},
   "source": [
    "### calculate the medoid value\n",
    "with the calculation of the distance of all the segementations, use fast relaxed dtw"
   ]
  },
  {
   "cell_type": "code",
   "execution_count": 1,
   "metadata": {},
   "outputs": [],
   "source": [
    "# assume that each segment length is 5 second\n",
    "import numpy as np\n",
    "from fast_relaxed_dtw_v1 import fast_relaxed_dtw\n",
    "\n",
    "def distance(seg1, seg2):\n",
    "    result = 0.0;\n",
    "    dist = lambda x,y : np.abs(x - y)\n",
    "    distance, matrix = fast_relaxed_dtw(seg1, seg2, dist=dist, r=1)\n",
    "    return distance\n",
    "        \n",
    "def find_medoid_seg(segs):\n",
    "    length = len(segs)\n",
    "    result = [0 for i in range(length)]\n",
    "    table = [[-1 for i in range(length)] for i in range(length)] # initialize the table to all -1\n",
    "    for i in tqdm(range(length)):\n",
    "        for j in range(length):\n",
    "            if i == j: \n",
    "                table[i][j] = 0\n",
    "                continue\n",
    "            elif table[j][i] != -1:  # using memoization\n",
    "                result[i] += table[j][i]\n",
    "            else:\n",
    "                table[i][j] = distance(segs[i], segs[j])\n",
    "                result[i] += table[i][j]\n",
    "    min_medoid = min(result)\n",
    "    for i in range(len(result)):\n",
    "        if min_medoid == result[i]:\n",
    "            return segs[i], min_medoid / len(segs)"
   ]
  },
  {
   "cell_type": "markdown",
   "metadata": {},
   "source": [
    "### calculate the medoid value and the representation value for all the activities"
   ]
  },
  {
   "cell_type": "code",
   "execution_count": 15,
   "metadata": {
    "scrolled": true
   },
   "outputs": [
    {
     "name": "stderr",
     "output_type": "stream",
     "text": [
      "100%|██████████| 319/319 [00:00<00:00, 149428.52it/s]\n",
      "100%|██████████| 318/318 [09:37<00:00,  1.82s/it]\n",
      "100%|██████████| 6/6 [00:00<00:00, 2922.52it/s]\n",
      "100%|██████████| 5/5 [00:00<00:00, 44.28it/s]\n",
      "100%|██████████| 195/195 [00:00<00:00, 95726.74it/s]\n",
      "100%|██████████| 194/194 [03:22<00:00,  1.05s/it]\n",
      "100%|██████████| 95/95 [00:00<00:00, 47266.77it/s]\n",
      "100%|██████████| 94/94 [00:46<00:00,  2.04it/s]\n",
      "100%|██████████| 93/93 [00:00<00:00, 42293.21it/s]\n",
      "100%|██████████| 92/92 [00:45<00:00,  2.04it/s]\n",
      "100%|██████████| 936/936 [00:00<00:00, 126400.35it/s]\n",
      "100%|██████████| 935/935 [1:15:58<00:00,  4.88s/it]\n",
      "100%|██████████| 170/170 [00:00<00:00, 94129.59it/s]\n",
      "100%|██████████| 169/169 [02:31<00:00,  1.11it/s]\n",
      "100%|██████████| 3/3 [00:00<00:00, 1456.36it/s]\n",
      "100%|██████████| 2/2 [00:00<00:00, 93.34it/s]\n",
      "100%|██████████| 30/30 [00:00<00:00, 18998.81it/s]\n",
      "100%|██████████| 29/29 [00:04<00:00,  6.47it/s]\n",
      "100%|██████████| 25/25 [00:00<00:00, 12136.30it/s]\n",
      "100%|██████████| 24/24 [00:03<00:00,  7.96it/s]\n",
      "100%|██████████| 47/47 [00:00<00:00, 23906.41it/s]\n",
      "100%|██████████| 46/46 [00:11<00:00,  4.13it/s]\n",
      "100%|██████████| 14/14 [00:00<00:00, 7502.27it/s]\n",
      "100%|██████████| 13/13 [00:00<00:00, 15.13it/s]\n",
      "100%|██████████| 34/34 [00:00<00:00, 16585.99it/s]\n",
      "100%|██████████| 33/33 [00:05<00:00,  6.14it/s]\n",
      "100%|██████████| 10/10 [00:00<00:00, 6574.14it/s]\n",
      "100%|██████████| 9/9 [00:00<00:00, 21.08it/s]\n",
      "100%|██████████| 6/6 [00:00<00:00, 3663.15it/s]\n",
      "100%|██████████| 5/5 [00:00<00:00, 39.75it/s]\n"
     ]
    }
   ],
   "source": [
    "import random\n",
    "all_segments = []\n",
    "medoids = []\n",
    "represent = []\n",
    "for i in range(len(activities)):\n",
    "    segs = create_segs(get_raw_data(activities[i]), 5)\n",
    "    all_segments.append(segs)\n",
    "    seg, medoid = find_medoid_seg(segs)\n",
    "    represent.append(seg)\n",
    "    medoids.append(medoid)"
   ]
  },
  {
   "cell_type": "markdown",
   "metadata": {},
   "source": [
    "### store the all_segments(list of segments by activities), represent(the represent segment for all activities), medoids(all the min medoid value for all activities)"
   ]
  },
  {
   "cell_type": "code",
   "execution_count": 16,
   "metadata": {},
   "outputs": [],
   "source": [
    "import pickle\n",
    "pickle_out = open(\"all_segs.pickle\",\"wb\")\n",
    "pickle.dump(all_segments, pickle_out)\n",
    "pickle_out.close()\n",
    "pickle_out = open(\"represents.pickle\",\"wb\")\n",
    "pickle.dump(represent, pickle_out)\n",
    "pickle_out.close()\n",
    "pickle_out = open(\"medoids.pickle\",\"wb\")\n",
    "pickle.dump(medoids, pickle_out)\n",
    "pickle_out.close()"
   ]
  },
  {
   "cell_type": "markdown",
   "metadata": {},
   "source": [
    "### load the stored data"
   ]
  },
  {
   "cell_type": "code",
   "execution_count": 6,
   "metadata": {},
   "outputs": [],
   "source": [
    "import random\n",
    "import pickle\n",
    "pickle_in = open(\"all_segs.pickle\",\"rb\")\n",
    "all_segments = pickle.load(pickle_in)\n",
    "pickle_in = open(\"represents.pickle\",\"rb\")\n",
    "represent = pickle.load(pickle_in)\n",
    "pickle_in = open(\"medoids.pickle\",\"rb\")\n",
    "medoids = pickle.load(pickle_in)"
   ]
  },
  {
   "cell_type": "code",
   "execution_count": 12,
   "metadata": {},
   "outputs": [],
   "source": [
    "import plotly\n",
    "import plotly.plotly as py\n",
    "plotly.tools.set_credentials_file(username='mr_lancelot', api_key='WJcSyvZ1Ne3mTosBtlwc')\n",
    "import plotly.graph_objs as go"
   ]
  },
  {
   "cell_type": "code",
   "execution_count": 25,
   "metadata": {},
   "outputs": [
    {
     "data": {
      "text/html": [
       "<iframe id=\"igraph\" scrolling=\"no\" style=\"border:none;\" seamless=\"seamless\" src=\"https://plot.ly/~mr_lancelot/56.embed\" height=\"525px\" width=\"100%\"></iframe>"
      ],
      "text/plain": [
       "<chart_studio.tools.PlotlyDisplay object>"
      ]
     },
     "execution_count": 25,
     "metadata": {},
     "output_type": "execute_result"
    }
   ],
   "source": [
    "average_medoid = []\n",
    "for i in range(len(activities)):\n",
    "    average_medoid.append(medoids[i] / len(all_segments[i]))\n",
    "    \n",
    "trace0 = go.Scatter(\n",
    "    x=activities,\n",
    "    y=average_medoid\n",
    ")\n",
    "data = [trace0]\n",
    "py.iplot(data)"
   ]
  },
  {
   "cell_type": "markdown",
   "metadata": {},
   "source": [
    "### expend all the segs "
   ]
  },
  {
   "cell_type": "code",
   "execution_count": 103,
   "metadata": {},
   "outputs": [],
   "source": [
    "# get value from list of indices\n",
    "getVar = lambda List, indices: [List[i] for i in indices]\n",
    "# k-smallest\n",
    "def k_small(l, k, reverse = False):    \n",
    "    new_l = [[i, l[i]] for i in range(len(l))]\n",
    "    new_l = sorted(new_l, key = lambda x: x[-1])\n",
    "    if reverse: new_l.reverse()\n",
    "    return [i[1] for i in new_l[:k]], [i[0] for i in new_l[:k]]"
   ]
  },
  {
   "cell_type": "code",
   "execution_count": 108,
   "metadata": {},
   "outputs": [
    {
     "data": {
      "text/plain": [
       "([935, 318, 194, 169, 94], [5, 0, 2, 6, 3])"
      ]
     },
     "execution_count": 108,
     "metadata": {},
     "output_type": "execute_result"
    }
   ],
   "source": [
    "sizes = [len(seg) for seg in all_segments]\n",
    "k_l, indices = k_small(sizes, 5, True)"
   ]
  },
  {
   "cell_type": "code",
   "execution_count": 70,
   "metadata": {},
   "outputs": [],
   "source": [
    "all_seg_seperate = []\n",
    "for i in indices:\n",
    "    all_seg_seperate.extend(map(lambda x: [x, activities[i]], all_segments[i]))"
   ]
  },
  {
   "cell_type": "markdown",
   "metadata": {},
   "source": [
    "###  use medoid to classify the activity\n",
    "the classify will return a list of activity which match to the min_distance to all the represents"
   ]
  },
  {
   "cell_type": "code",
   "execution_count": 126,
   "metadata": {},
   "outputs": [],
   "source": [
    "import numpy as np\n",
    "def classify(represents, seg, k, activity=activities):\n",
    "    dist = [-1 for i in range(len(represents))]\n",
    "    for i in range(len(represents)):\n",
    "        dist[i] = distance(represents[i], seg)\n",
    "    small_dist, indices = k_small(dist, k)\n",
    "    return getVar(activity, indices)"
   ]
  },
  {
   "cell_type": "markdown",
   "metadata": {},
   "source": [
    "### evaluate the medoids, with 100 random data and return the percentage of correctness"
   ]
  },
  {
   "cell_type": "code",
   "execution_count": 208,
   "metadata": {},
   "outputs": [],
   "source": [
    "def evaluate(size, k, indices = list(range(len(represent)))):  # k is the size of the random sample\n",
    "    test = random.sample(all_seg_seperate, size)\n",
    "    count = 0\n",
    "    represents = getVar(represent, indices)\n",
    "    activity = getVar(activities, indices)\n",
    "    analysis = [[0,0] for i in range(len(activity))]\n",
    "    mis_count = [[] for i in range(len(activity))]\n",
    "    for i in range(size):\n",
    "        result = classify(represents, test[i][0], k, activity)\n",
    "#         for j in result:\n",
    "#             assert j in activities\n",
    "        correct_index = activity.index(test[i][1])\n",
    "        classifies_index = activity.index(result[0])\n",
    "        analysis[correct_index][0] += 1\n",
    "        if test[i][1] in result: \n",
    "            count += 1\n",
    "            analysis[classifies_index][1] += 1\n",
    "        else:\n",
    "            mis_count[correct_index].append(result[0])\n",
    "#         print \"correct is --->\" + test[i][1]\n",
    "#         print \"clasify is --->\" + str(result)\n",
    "#         print \"\\n\"\n",
    "    print count / (k * 1.0)"
   ]
  },
  {
   "cell_type": "code",
   "execution_count": 234,
   "metadata": {},
   "outputs": [],
   "source": [
    "def evaluate_one(activity, k, indices = list(range(len(represent)))):  # k is the size of the random sample\n",
    "    test = all_segments[activities.index(activity)]\n",
    "    count = 0\n",
    "    represents = getVar(represent, indices)\n",
    "    analysis = [[0, activities[i]] for i in indices]\n",
    "    select_activity = getVar(activities, indices)\n",
    "    for i in range(len(test)):\n",
    "        result = classify(represents, test[i], k, select_activity)\n",
    "        for j in result:\n",
    "            assert j in select_activity \n",
    "        analysis[select_activity.index(result[0])][0] += 1\n",
    "        analysis[select_activity.index(result[1])][0] += 1\n",
    "        if activity in result: \n",
    "            count += 1\n",
    "    print count / (len(test) * 1.0)\n",
    "    for i in analysis:\n",
    "        print i\n",
    "    print activity\n",
    "    print \"\\n\""
   ]
  },
  {
   "cell_type": "code",
   "execution_count": 130,
   "metadata": {},
   "outputs": [
    {
     "data": {
      "text/plain": [
       "['Working on laptop',\n",
       " 'Walking',\n",
       " 'Commute in bus',\n",
       " 'Sitting',\n",
       " 'Eating using fork and spoon']"
      ]
     },
     "execution_count": 130,
     "metadata": {},
     "output_type": "execute_result"
    }
   ],
   "source": [
    "getVar(activities, indices)"
   ]
  },
  {
   "cell_type": "code",
   "execution_count": 172,
   "metadata": {
    "collapsed": true
   },
   "outputs": [
    {
     "name": "stdout",
     "output_type": "stream",
     "text": [
      "0.77\n",
      "0.82\n",
      "0.76\n",
      "0.79\n",
      "0.82\n",
      "0.85\n",
      "0.77\n",
      "0.77\n",
      "0.82\n",
      "0.84\n"
     ]
    }
   ],
   "source": [
    "# the evaluation for the top 5, classify with 2 activities\n",
    "random.seed(a=10)\n",
    "for i in range(10):\n",
    "    evaluate(100, 2, indices)"
   ]
  },
  {
   "cell_type": "code",
   "execution_count": 173,
   "metadata": {
    "collapsed": true
   },
   "outputs": [
    {
     "name": "stdout",
     "output_type": "stream",
     "text": [
      "0.48\n",
      "0.48\n",
      "0.42\n",
      "0.42\n",
      "0.5\n",
      "0.53\n",
      "0.53\n",
      "0.43\n",
      "0.44\n",
      "0.54\n"
     ]
    }
   ],
   "source": [
    "#the result for classify correctly\n",
    "random.seed(a=10)\n",
    "for i in range(10):\n",
    "    evaluate(100, 1, indices)"
   ]
  },
  {
   "cell_type": "code",
   "execution_count": 188,
   "metadata": {
    "collapsed": true
   },
   "outputs": [
    {
     "name": "stdout",
     "output_type": "stream",
     "text": [
      "0.48\n",
      "Working on laptop 62 36\n",
      "Walking 20 1\n",
      "Commute in bus 9 4\n",
      "Sitting 9 7\n",
      "Eating using fork and spoon 0 0\n",
      "0.48\n",
      "Working on laptop 64 36\n",
      "Walking 18 0\n",
      "Commute in bus 8 3\n",
      "Sitting 10 9\n",
      "Eating using fork and spoon 0 0\n",
      "0.42\n",
      "Working on laptop 59 28\n",
      "Walking 25 1\n",
      "Commute in bus 4 1\n",
      "Sitting 12 12\n",
      "Eating using fork and spoon 0 0\n",
      "0.42\n",
      "Working on laptop 60 33\n",
      "Walking 25 1\n",
      "Commute in bus 9 4\n",
      "Sitting 6 4\n",
      "Eating using fork and spoon 0 0\n",
      "0.5\n",
      "Working on laptop 59 31\n",
      "Walking 21 3\n",
      "Commute in bus 7 4\n",
      "Sitting 13 12\n",
      "Eating using fork and spoon 0 0\n",
      "0.53\n",
      "Working on laptop 61 34\n",
      "Walking 16 1\n",
      "Commute in bus 15 10\n",
      "Sitting 8 8\n",
      "Eating using fork and spoon 0 0\n"
     ]
    },
    {
     "ename": "KeyboardInterrupt",
     "evalue": "",
     "output_type": "error",
     "traceback": [
      "\u001b[0;31m---------------------------------------------------------------------------\u001b[0m",
      "\u001b[0;31mKeyboardInterrupt\u001b[0m                         Traceback (most recent call last)",
      "\u001b[0;32m<ipython-input-188-4c285def3920>\u001b[0m in \u001b[0;36m<module>\u001b[0;34m()\u001b[0m\n\u001b[1;32m      1\u001b[0m \u001b[0mrandom\u001b[0m\u001b[0;34m.\u001b[0m\u001b[0mseed\u001b[0m\u001b[0;34m(\u001b[0m\u001b[0ma\u001b[0m\u001b[0;34m=\u001b[0m\u001b[0;36m10\u001b[0m\u001b[0;34m)\u001b[0m\u001b[0;34m\u001b[0m\u001b[0m\n\u001b[1;32m      2\u001b[0m \u001b[0;32mfor\u001b[0m \u001b[0mi\u001b[0m \u001b[0;32min\u001b[0m \u001b[0mrange\u001b[0m\u001b[0;34m(\u001b[0m\u001b[0;36m10\u001b[0m\u001b[0;34m)\u001b[0m\u001b[0;34m:\u001b[0m\u001b[0;34m\u001b[0m\u001b[0m\n\u001b[0;32m----> 3\u001b[0;31m     \u001b[0mevaluate\u001b[0m\u001b[0;34m(\u001b[0m\u001b[0;36m100\u001b[0m\u001b[0;34m,\u001b[0m \u001b[0;36m1\u001b[0m\u001b[0;34m,\u001b[0m \u001b[0mindices\u001b[0m\u001b[0;34m)\u001b[0m\u001b[0;34m\u001b[0m\u001b[0m\n\u001b[0m",
      "\u001b[0;32m<ipython-input-187-cc03e81df1b3>\u001b[0m in \u001b[0;36mevaluate\u001b[0;34m(size, k, indices)\u001b[0m\n\u001b[1;32m      6\u001b[0m     \u001b[0manalysis\u001b[0m \u001b[0;34m=\u001b[0m \u001b[0;34m[\u001b[0m\u001b[0;34m[\u001b[0m\u001b[0;36m0\u001b[0m\u001b[0;34m,\u001b[0m\u001b[0;36m0\u001b[0m\u001b[0;34m]\u001b[0m \u001b[0;32mfor\u001b[0m \u001b[0mi\u001b[0m \u001b[0;32min\u001b[0m \u001b[0mrange\u001b[0m\u001b[0;34m(\u001b[0m\u001b[0mlen\u001b[0m\u001b[0;34m(\u001b[0m\u001b[0mactivity\u001b[0m\u001b[0;34m)\u001b[0m\u001b[0;34m)\u001b[0m\u001b[0;34m]\u001b[0m\u001b[0;34m\u001b[0m\u001b[0m\n\u001b[1;32m      7\u001b[0m     \u001b[0;32mfor\u001b[0m \u001b[0mi\u001b[0m \u001b[0;32min\u001b[0m \u001b[0mrange\u001b[0m\u001b[0;34m(\u001b[0m\u001b[0msize\u001b[0m\u001b[0;34m)\u001b[0m\u001b[0;34m:\u001b[0m\u001b[0;34m\u001b[0m\u001b[0m\n\u001b[0;32m----> 8\u001b[0;31m         \u001b[0mresult\u001b[0m \u001b[0;34m=\u001b[0m \u001b[0mclassify\u001b[0m\u001b[0;34m(\u001b[0m\u001b[0mrepresents\u001b[0m\u001b[0;34m,\u001b[0m \u001b[0mtest\u001b[0m\u001b[0;34m[\u001b[0m\u001b[0mi\u001b[0m\u001b[0;34m]\u001b[0m\u001b[0;34m[\u001b[0m\u001b[0;36m0\u001b[0m\u001b[0;34m]\u001b[0m\u001b[0;34m,\u001b[0m \u001b[0mk\u001b[0m\u001b[0;34m,\u001b[0m \u001b[0mactivity\u001b[0m\u001b[0;34m)\u001b[0m\u001b[0;34m\u001b[0m\u001b[0m\n\u001b[0m\u001b[1;32m      9\u001b[0m \u001b[0;31m#         for j in result:\u001b[0m\u001b[0;34m\u001b[0m\u001b[0;34m\u001b[0m\u001b[0m\n\u001b[1;32m     10\u001b[0m \u001b[0;31m#             assert j in activities\u001b[0m\u001b[0;34m\u001b[0m\u001b[0;34m\u001b[0m\u001b[0m\n",
      "\u001b[0;32m<ipython-input-126-f57b439389c6>\u001b[0m in \u001b[0;36mclassify\u001b[0;34m(represents, seg, k, activity)\u001b[0m\n\u001b[1;32m      3\u001b[0m     \u001b[0mdist\u001b[0m \u001b[0;34m=\u001b[0m \u001b[0;34m[\u001b[0m\u001b[0;34m-\u001b[0m\u001b[0;36m1\u001b[0m \u001b[0;32mfor\u001b[0m \u001b[0mi\u001b[0m \u001b[0;32min\u001b[0m \u001b[0mrange\u001b[0m\u001b[0;34m(\u001b[0m\u001b[0mlen\u001b[0m\u001b[0;34m(\u001b[0m\u001b[0mrepresents\u001b[0m\u001b[0;34m)\u001b[0m\u001b[0;34m)\u001b[0m\u001b[0;34m]\u001b[0m\u001b[0;34m\u001b[0m\u001b[0m\n\u001b[1;32m      4\u001b[0m     \u001b[0;32mfor\u001b[0m \u001b[0mi\u001b[0m \u001b[0;32min\u001b[0m \u001b[0mrange\u001b[0m\u001b[0;34m(\u001b[0m\u001b[0mlen\u001b[0m\u001b[0;34m(\u001b[0m\u001b[0mrepresents\u001b[0m\u001b[0;34m)\u001b[0m\u001b[0;34m)\u001b[0m\u001b[0;34m:\u001b[0m\u001b[0;34m\u001b[0m\u001b[0m\n\u001b[0;32m----> 5\u001b[0;31m         \u001b[0mdist\u001b[0m\u001b[0;34m[\u001b[0m\u001b[0mi\u001b[0m\u001b[0;34m]\u001b[0m \u001b[0;34m=\u001b[0m \u001b[0mdistance\u001b[0m\u001b[0;34m(\u001b[0m\u001b[0mrepresents\u001b[0m\u001b[0;34m[\u001b[0m\u001b[0mi\u001b[0m\u001b[0;34m]\u001b[0m\u001b[0;34m,\u001b[0m \u001b[0mseg\u001b[0m\u001b[0;34m)\u001b[0m\u001b[0;34m\u001b[0m\u001b[0m\n\u001b[0m\u001b[1;32m      6\u001b[0m     \u001b[0msmall_dist\u001b[0m\u001b[0;34m,\u001b[0m \u001b[0mindices\u001b[0m \u001b[0;34m=\u001b[0m \u001b[0mk_small\u001b[0m\u001b[0;34m(\u001b[0m\u001b[0mdist\u001b[0m\u001b[0;34m,\u001b[0m \u001b[0mk\u001b[0m\u001b[0;34m)\u001b[0m\u001b[0;34m\u001b[0m\u001b[0m\n\u001b[1;32m      7\u001b[0m     \u001b[0;32mreturn\u001b[0m \u001b[0mgetVar\u001b[0m\u001b[0;34m(\u001b[0m\u001b[0mactivity\u001b[0m\u001b[0;34m,\u001b[0m \u001b[0mindices\u001b[0m\u001b[0;34m)\u001b[0m\u001b[0;34m\u001b[0m\u001b[0m\n",
      "\u001b[0;32m<ipython-input-1-16349686e3a3>\u001b[0m in \u001b[0;36mdistance\u001b[0;34m(seg1, seg2)\u001b[0m\n\u001b[1;32m      6\u001b[0m     \u001b[0mresult\u001b[0m \u001b[0;34m=\u001b[0m \u001b[0;36m0.0\u001b[0m\u001b[0;34m;\u001b[0m\u001b[0;34m\u001b[0m\u001b[0m\n\u001b[1;32m      7\u001b[0m     \u001b[0mdist\u001b[0m \u001b[0;34m=\u001b[0m \u001b[0;32mlambda\u001b[0m \u001b[0mx\u001b[0m\u001b[0;34m,\u001b[0m\u001b[0my\u001b[0m \u001b[0;34m:\u001b[0m \u001b[0mnp\u001b[0m\u001b[0;34m.\u001b[0m\u001b[0mabs\u001b[0m\u001b[0;34m(\u001b[0m\u001b[0mx\u001b[0m \u001b[0;34m-\u001b[0m \u001b[0my\u001b[0m\u001b[0;34m)\u001b[0m\u001b[0;34m\u001b[0m\u001b[0m\n\u001b[0;32m----> 8\u001b[0;31m     \u001b[0mdistance\u001b[0m\u001b[0;34m,\u001b[0m \u001b[0mmatrix\u001b[0m \u001b[0;34m=\u001b[0m \u001b[0mfast_relaxed_dtw\u001b[0m\u001b[0;34m(\u001b[0m\u001b[0mseg1\u001b[0m\u001b[0;34m,\u001b[0m \u001b[0mseg2\u001b[0m\u001b[0;34m,\u001b[0m \u001b[0mdist\u001b[0m\u001b[0;34m=\u001b[0m\u001b[0mdist\u001b[0m\u001b[0;34m,\u001b[0m \u001b[0mr\u001b[0m\u001b[0;34m=\u001b[0m\u001b[0;36m1\u001b[0m\u001b[0;34m)\u001b[0m\u001b[0;34m\u001b[0m\u001b[0m\n\u001b[0m\u001b[1;32m      9\u001b[0m     \u001b[0;32mreturn\u001b[0m \u001b[0mdistance\u001b[0m\u001b[0;34m\u001b[0m\u001b[0m\n\u001b[1;32m     10\u001b[0m \u001b[0;34m\u001b[0m\u001b[0m\n",
      "\u001b[0;32m/Users/Lancelot/Desktop/curantis/medoid/fast_relaxed_dtw_v1.pyc\u001b[0m in \u001b[0;36mfast_relaxed_dtw\u001b[0;34m(x, y, radius, dist, r)\u001b[0m\n\u001b[1;32m     48\u001b[0m         '''\n\u001b[1;32m     49\u001b[0m     \u001b[0mx\u001b[0m\u001b[0;34m,\u001b[0m \u001b[0my\u001b[0m\u001b[0;34m,\u001b[0m \u001b[0mdist\u001b[0m \u001b[0;34m=\u001b[0m \u001b[0m__prep_inputs\u001b[0m\u001b[0;34m(\u001b[0m\u001b[0mx\u001b[0m\u001b[0;34m,\u001b[0m \u001b[0my\u001b[0m\u001b[0;34m,\u001b[0m \u001b[0mdist\u001b[0m\u001b[0;34m)\u001b[0m\u001b[0;34m\u001b[0m\u001b[0m\n\u001b[0;32m---> 50\u001b[0;31m     \u001b[0;32mreturn\u001b[0m \u001b[0m__fastdtw\u001b[0m\u001b[0;34m(\u001b[0m\u001b[0mx\u001b[0m\u001b[0;34m,\u001b[0m \u001b[0my\u001b[0m\u001b[0;34m,\u001b[0m \u001b[0mradius\u001b[0m\u001b[0;34m,\u001b[0m \u001b[0mdist\u001b[0m\u001b[0;34m,\u001b[0m \u001b[0mr\u001b[0m\u001b[0;34m)\u001b[0m\u001b[0;34m\u001b[0m\u001b[0m\n\u001b[0m\u001b[1;32m     51\u001b[0m \u001b[0;34m\u001b[0m\u001b[0m\n\u001b[1;32m     52\u001b[0m \u001b[0;34m\u001b[0m\u001b[0m\n",
      "\u001b[0;32m/Users/Lancelot/Desktop/curantis/medoid/fast_relaxed_dtw_v1.pyc\u001b[0m in \u001b[0;36m__fastdtw\u001b[0;34m(x, y, radius, dist, r)\u001b[0m\n\u001b[1;32m     68\u001b[0m     \u001b[0my_shrinked\u001b[0m \u001b[0;34m=\u001b[0m \u001b[0m__reduce_by_half\u001b[0m\u001b[0;34m(\u001b[0m\u001b[0my\u001b[0m\u001b[0;34m)\u001b[0m\u001b[0;34m\u001b[0m\u001b[0m\n\u001b[1;32m     69\u001b[0m     \u001b[0mdistance\u001b[0m\u001b[0;34m,\u001b[0m \u001b[0mpath\u001b[0m \u001b[0;34m=\u001b[0m\u001b[0;31m \u001b[0m\u001b[0;31m\\\u001b[0m\u001b[0;34m\u001b[0m\u001b[0m\n\u001b[0;32m---> 70\u001b[0;31m         \u001b[0m__fastdtw\u001b[0m\u001b[0;34m(\u001b[0m\u001b[0mx_shrinked\u001b[0m\u001b[0;34m,\u001b[0m \u001b[0my_shrinked\u001b[0m\u001b[0;34m,\u001b[0m \u001b[0mradius\u001b[0m\u001b[0;34m=\u001b[0m\u001b[0mradius\u001b[0m\u001b[0;34m,\u001b[0m \u001b[0mdist\u001b[0m\u001b[0;34m=\u001b[0m\u001b[0mdist\u001b[0m\u001b[0;34m,\u001b[0m \u001b[0mr\u001b[0m\u001b[0;34m=\u001b[0m\u001b[0mr\u001b[0m\u001b[0;34m)\u001b[0m\u001b[0;34m\u001b[0m\u001b[0m\n\u001b[0m\u001b[1;32m     71\u001b[0m     \u001b[0mwindow\u001b[0m \u001b[0;34m=\u001b[0m \u001b[0m__expand_window\u001b[0m\u001b[0;34m(\u001b[0m\u001b[0mpath\u001b[0m\u001b[0;34m,\u001b[0m \u001b[0mlen\u001b[0m\u001b[0;34m(\u001b[0m\u001b[0mx\u001b[0m\u001b[0;34m)\u001b[0m\u001b[0;34m,\u001b[0m \u001b[0mlen\u001b[0m\u001b[0;34m(\u001b[0m\u001b[0my\u001b[0m\u001b[0;34m)\u001b[0m\u001b[0;34m,\u001b[0m \u001b[0mradius\u001b[0m\u001b[0;34m)\u001b[0m\u001b[0;34m\u001b[0m\u001b[0m\n\u001b[1;32m     72\u001b[0m     \u001b[0;32mreturn\u001b[0m \u001b[0m__relaxed_dtw\u001b[0m\u001b[0;34m(\u001b[0m\u001b[0mx\u001b[0m\u001b[0;34m,\u001b[0m \u001b[0my\u001b[0m\u001b[0;34m,\u001b[0m \u001b[0mwindow\u001b[0m\u001b[0;34m,\u001b[0m \u001b[0mdist\u001b[0m\u001b[0;34m=\u001b[0m\u001b[0mdist\u001b[0m\u001b[0;34m,\u001b[0m \u001b[0mr\u001b[0m\u001b[0;34m=\u001b[0m\u001b[0mr\u001b[0m\u001b[0;34m)\u001b[0m\u001b[0;34m\u001b[0m\u001b[0m\n",
      "\u001b[0;32m/Users/Lancelot/Desktop/curantis/medoid/fast_relaxed_dtw_v1.pyc\u001b[0m in \u001b[0;36m__fastdtw\u001b[0;34m(x, y, radius, dist, r)\u001b[0m\n\u001b[1;32m     68\u001b[0m     \u001b[0my_shrinked\u001b[0m \u001b[0;34m=\u001b[0m \u001b[0m__reduce_by_half\u001b[0m\u001b[0;34m(\u001b[0m\u001b[0my\u001b[0m\u001b[0;34m)\u001b[0m\u001b[0;34m\u001b[0m\u001b[0m\n\u001b[1;32m     69\u001b[0m     \u001b[0mdistance\u001b[0m\u001b[0;34m,\u001b[0m \u001b[0mpath\u001b[0m \u001b[0;34m=\u001b[0m\u001b[0;31m \u001b[0m\u001b[0;31m\\\u001b[0m\u001b[0;34m\u001b[0m\u001b[0m\n\u001b[0;32m---> 70\u001b[0;31m         \u001b[0m__fastdtw\u001b[0m\u001b[0;34m(\u001b[0m\u001b[0mx_shrinked\u001b[0m\u001b[0;34m,\u001b[0m \u001b[0my_shrinked\u001b[0m\u001b[0;34m,\u001b[0m \u001b[0mradius\u001b[0m\u001b[0;34m=\u001b[0m\u001b[0mradius\u001b[0m\u001b[0;34m,\u001b[0m \u001b[0mdist\u001b[0m\u001b[0;34m=\u001b[0m\u001b[0mdist\u001b[0m\u001b[0;34m,\u001b[0m \u001b[0mr\u001b[0m\u001b[0;34m=\u001b[0m\u001b[0mr\u001b[0m\u001b[0;34m)\u001b[0m\u001b[0;34m\u001b[0m\u001b[0m\n\u001b[0m\u001b[1;32m     71\u001b[0m     \u001b[0mwindow\u001b[0m \u001b[0;34m=\u001b[0m \u001b[0m__expand_window\u001b[0m\u001b[0;34m(\u001b[0m\u001b[0mpath\u001b[0m\u001b[0;34m,\u001b[0m \u001b[0mlen\u001b[0m\u001b[0;34m(\u001b[0m\u001b[0mx\u001b[0m\u001b[0;34m)\u001b[0m\u001b[0;34m,\u001b[0m \u001b[0mlen\u001b[0m\u001b[0;34m(\u001b[0m\u001b[0my\u001b[0m\u001b[0;34m)\u001b[0m\u001b[0;34m,\u001b[0m \u001b[0mradius\u001b[0m\u001b[0;34m)\u001b[0m\u001b[0;34m\u001b[0m\u001b[0m\n\u001b[1;32m     72\u001b[0m     \u001b[0;32mreturn\u001b[0m \u001b[0m__relaxed_dtw\u001b[0m\u001b[0;34m(\u001b[0m\u001b[0mx\u001b[0m\u001b[0;34m,\u001b[0m \u001b[0my\u001b[0m\u001b[0;34m,\u001b[0m \u001b[0mwindow\u001b[0m\u001b[0;34m,\u001b[0m \u001b[0mdist\u001b[0m\u001b[0;34m=\u001b[0m\u001b[0mdist\u001b[0m\u001b[0;34m,\u001b[0m \u001b[0mr\u001b[0m\u001b[0;34m=\u001b[0m\u001b[0mr\u001b[0m\u001b[0;34m)\u001b[0m\u001b[0;34m\u001b[0m\u001b[0m\n",
      "\u001b[0;32m/Users/Lancelot/Desktop/curantis/medoid/fast_relaxed_dtw_v1.pyc\u001b[0m in \u001b[0;36m__fastdtw\u001b[0;34m(x, y, radius, dist, r)\u001b[0m\n\u001b[1;32m     70\u001b[0m         \u001b[0m__fastdtw\u001b[0m\u001b[0;34m(\u001b[0m\u001b[0mx_shrinked\u001b[0m\u001b[0;34m,\u001b[0m \u001b[0my_shrinked\u001b[0m\u001b[0;34m,\u001b[0m \u001b[0mradius\u001b[0m\u001b[0;34m=\u001b[0m\u001b[0mradius\u001b[0m\u001b[0;34m,\u001b[0m \u001b[0mdist\u001b[0m\u001b[0;34m=\u001b[0m\u001b[0mdist\u001b[0m\u001b[0;34m,\u001b[0m \u001b[0mr\u001b[0m\u001b[0;34m=\u001b[0m\u001b[0mr\u001b[0m\u001b[0;34m)\u001b[0m\u001b[0;34m\u001b[0m\u001b[0m\n\u001b[1;32m     71\u001b[0m     \u001b[0mwindow\u001b[0m \u001b[0;34m=\u001b[0m \u001b[0m__expand_window\u001b[0m\u001b[0;34m(\u001b[0m\u001b[0mpath\u001b[0m\u001b[0;34m,\u001b[0m \u001b[0mlen\u001b[0m\u001b[0;34m(\u001b[0m\u001b[0mx\u001b[0m\u001b[0;34m)\u001b[0m\u001b[0;34m,\u001b[0m \u001b[0mlen\u001b[0m\u001b[0;34m(\u001b[0m\u001b[0my\u001b[0m\u001b[0;34m)\u001b[0m\u001b[0;34m,\u001b[0m \u001b[0mradius\u001b[0m\u001b[0;34m)\u001b[0m\u001b[0;34m\u001b[0m\u001b[0m\n\u001b[0;32m---> 72\u001b[0;31m     \u001b[0;32mreturn\u001b[0m \u001b[0m__relaxed_dtw\u001b[0m\u001b[0;34m(\u001b[0m\u001b[0mx\u001b[0m\u001b[0;34m,\u001b[0m \u001b[0my\u001b[0m\u001b[0;34m,\u001b[0m \u001b[0mwindow\u001b[0m\u001b[0;34m,\u001b[0m \u001b[0mdist\u001b[0m\u001b[0;34m=\u001b[0m\u001b[0mdist\u001b[0m\u001b[0;34m,\u001b[0m \u001b[0mr\u001b[0m\u001b[0;34m=\u001b[0m\u001b[0mr\u001b[0m\u001b[0;34m)\u001b[0m\u001b[0;34m\u001b[0m\u001b[0m\n\u001b[0m\u001b[1;32m     73\u001b[0m \u001b[0;34m\u001b[0m\u001b[0m\n\u001b[1;32m     74\u001b[0m \u001b[0;34m\u001b[0m\u001b[0m\n",
      "\u001b[0;32m/Users/Lancelot/Desktop/curantis/medoid/fast_relaxed_dtw_v1.pyc\u001b[0m in \u001b[0;36m__relaxed_dtw\u001b[0;34m(x, y, window, dist, r)\u001b[0m\n\u001b[1;32m    148\u001b[0m     \u001b[0;32mfor\u001b[0m \u001b[0mi\u001b[0m\u001b[0;34m,\u001b[0m \u001b[0mj\u001b[0m \u001b[0;32min\u001b[0m \u001b[0mwindow\u001b[0m\u001b[0;34m:\u001b[0m\u001b[0;34m\u001b[0m\u001b[0m\n\u001b[1;32m    149\u001b[0m         \u001b[0mdt\u001b[0m \u001b[0;34m=\u001b[0m \u001b[0mdist\u001b[0m\u001b[0;34m(\u001b[0m\u001b[0mx\u001b[0m\u001b[0;34m[\u001b[0m\u001b[0mi\u001b[0m\u001b[0;34m-\u001b[0m\u001b[0;36m1\u001b[0m\u001b[0;34m]\u001b[0m\u001b[0;34m,\u001b[0m \u001b[0my\u001b[0m\u001b[0;34m[\u001b[0m\u001b[0mj\u001b[0m\u001b[0;34m-\u001b[0m\u001b[0;36m1\u001b[0m\u001b[0;34m]\u001b[0m\u001b[0;34m)\u001b[0m\u001b[0;34m\u001b[0m\u001b[0m\n\u001b[0;32m--> 150\u001b[0;31m         DTW[i, j] = min((DTW[i-1, j][0]+dt, i-1, j), (DTW[i, j-1][0]+dt, i, j-1),\n\u001b[0m\u001b[1;32m    151\u001b[0m                       (DTW[i-1, j-1][0]+dt, i-1, j-1), key=lambda a: a[0])\n\u001b[1;32m    152\u001b[0m     \u001b[0mi\u001b[0m\u001b[0;34m,\u001b[0m \u001b[0mj\u001b[0m \u001b[0;34m=\u001b[0m \u001b[0mlen_x\u001b[0m\u001b[0;34m,\u001b[0m \u001b[0mlen_y\u001b[0m\u001b[0;34m\u001b[0m\u001b[0m\n",
      "\u001b[0;31mKeyboardInterrupt\u001b[0m: "
     ]
    }
   ],
   "source": [
    "random.seed(a=10)\n",
    "for i in range(10):\n",
    "    evaluate(100, 1, indices)"
   ]
  },
  {
   "cell_type": "code",
   "execution_count": 196,
   "metadata": {
    "collapsed": true
   },
   "outputs": [
    {
     "name": "stdout",
     "output_type": "stream",
     "text": [
      "0.48\n",
      "Working on laptop 62 36\n",
      "['Commute in bus', 'Sitting', 'Commute in bus', 'Commute in bus', 'Commute in bus', 'Commute in bus', 'Commute in bus', 'Commute in bus', 'Eating using fork and spoon', 'Eating using fork and spoon', 'Eating using fork and spoon', 'Commute in bus', 'Commute in bus', 'Commute in bus', 'Sitting', 'Commute in bus', 'Sitting', 'Sitting', 'Eating using fork and spoon', 'Commute in bus', 'Commute in bus', 'Commute in bus', 'Eating using fork and spoon', 'Commute in bus', 'Commute in bus', 'Commute in bus']\n",
      "Walking 20 1\n",
      "['Eating using fork and spoon', 'Sitting', 'Eating using fork and spoon', 'Sitting', 'Sitting', 'Eating using fork and spoon', 'Sitting', 'Eating using fork and spoon', 'Sitting', 'Eating using fork and spoon', 'Eating using fork and spoon', 'Eating using fork and spoon', 'Eating using fork and spoon', 'Eating using fork and spoon', 'Eating using fork and spoon', 'Eating using fork and spoon', 'Sitting', 'Sitting', 'Sitting']\n",
      "Commute in bus 9 4\n",
      "['Eating using fork and spoon', 'Eating using fork and spoon', 'Eating using fork and spoon', 'Eating using fork and spoon', 'Working on laptop']\n",
      "Sitting 9 7\n",
      "['Walking', 'Working on laptop']\n",
      "Eating using fork and spoon 0 0\n",
      "[]\n",
      "0.48\n",
      "Working on laptop 64 36\n",
      "['Commute in bus', 'Commute in bus', 'Commute in bus', 'Commute in bus', 'Commute in bus', 'Commute in bus', 'Commute in bus', 'Commute in bus', 'Sitting', 'Eating using fork and spoon', 'Eating using fork and spoon', 'Sitting', 'Sitting', 'Eating using fork and spoon', 'Commute in bus', 'Commute in bus', 'Commute in bus', 'Commute in bus', 'Commute in bus', 'Commute in bus', 'Sitting', 'Commute in bus', 'Commute in bus', 'Commute in bus', 'Eating using fork and spoon', 'Sitting', 'Sitting', 'Commute in bus']\n",
      "Walking 18 0\n",
      "['Sitting', 'Sitting', 'Sitting', 'Sitting', 'Commute in bus', 'Commute in bus', 'Sitting', 'Eating using fork and spoon', 'Eating using fork and spoon', 'Sitting', 'Eating using fork and spoon', 'Eating using fork and spoon', 'Sitting', 'Sitting', 'Sitting', 'Sitting', 'Sitting', 'Eating using fork and spoon']\n",
      "Commute in bus 8 3\n",
      "['Working on laptop', 'Eating using fork and spoon', 'Eating using fork and spoon', 'Eating using fork and spoon', 'Working on laptop']\n",
      "Sitting 10 9\n",
      "['Working on laptop']\n",
      "Eating using fork and spoon 0 0\n",
      "[]\n",
      "0.42\n",
      "Working on laptop 59 28\n",
      "['Commute in bus', 'Commute in bus', 'Commute in bus', 'Sitting', 'Commute in bus', 'Commute in bus', 'Commute in bus', 'Commute in bus', 'Commute in bus', 'Sitting', 'Sitting', 'Eating using fork and spoon', 'Sitting', 'Commute in bus', 'Commute in bus', 'Commute in bus', 'Commute in bus', 'Eating using fork and spoon', 'Commute in bus', 'Commute in bus', 'Commute in bus', 'Sitting', 'Commute in bus', 'Commute in bus', 'Eating using fork and spoon', 'Commute in bus', 'Sitting', 'Commute in bus', 'Sitting', 'Commute in bus', 'Commute in bus']\n",
      "Walking 25 1\n",
      "['Eating using fork and spoon', 'Eating using fork and spoon', 'Sitting', 'Sitting', 'Sitting', 'Eating using fork and spoon', 'Eating using fork and spoon', 'Sitting', 'Eating using fork and spoon', 'Commute in bus', 'Eating using fork and spoon', 'Eating using fork and spoon', 'Eating using fork and spoon', 'Sitting', 'Sitting', 'Eating using fork and spoon', 'Eating using fork and spoon', 'Sitting', 'Commute in bus', 'Eating using fork and spoon', 'Eating using fork and spoon', 'Sitting', 'Eating using fork and spoon', 'Eating using fork and spoon']\n",
      "Commute in bus 4 1\n",
      "['Eating using fork and spoon', 'Eating using fork and spoon', 'Eating using fork and spoon']\n",
      "Sitting 12 12\n",
      "[]\n",
      "Eating using fork and spoon 0 0\n",
      "[]\n",
      "0.42\n",
      "Working on laptop 60 33\n",
      "['Commute in bus', 'Commute in bus', 'Commute in bus', 'Commute in bus', 'Commute in bus', 'Walking', 'Commute in bus', 'Sitting', 'Eating using fork and spoon', 'Eating using fork and spoon', 'Eating using fork and spoon', 'Eating using fork and spoon', 'Commute in bus', 'Commute in bus', 'Commute in bus', 'Sitting', 'Commute in bus', 'Commute in bus', 'Eating using fork and spoon', 'Commute in bus', 'Commute in bus', 'Commute in bus', 'Commute in bus', 'Eating using fork and spoon', 'Commute in bus', 'Commute in bus', 'Commute in bus']\n",
      "Walking 25 1\n",
      "['Sitting', 'Eating using fork and spoon', 'Eating using fork and spoon', 'Eating using fork and spoon', 'Sitting', 'Sitting', 'Sitting', 'Sitting', 'Sitting', 'Sitting', 'Eating using fork and spoon', 'Sitting', 'Sitting', 'Sitting', 'Sitting', 'Eating using fork and spoon', 'Commute in bus', 'Sitting', 'Eating using fork and spoon', 'Eating using fork and spoon', 'Eating using fork and spoon', 'Eating using fork and spoon', 'Eating using fork and spoon', 'Eating using fork and spoon']\n",
      "Commute in bus 9 4\n",
      "['Working on laptop', 'Working on laptop', 'Eating using fork and spoon', 'Eating using fork and spoon', 'Eating using fork and spoon']\n",
      "Sitting 6 4\n",
      "['Commute in bus', 'Working on laptop']\n",
      "Eating using fork and spoon 0 0\n",
      "[]\n",
      "0.5\n",
      "Working on laptop 59 31\n",
      "['Commute in bus', 'Commute in bus', 'Commute in bus', 'Eating using fork and spoon', 'Commute in bus', 'Commute in bus', 'Commute in bus', 'Eating using fork and spoon', 'Commute in bus', 'Commute in bus', 'Commute in bus', 'Eating using fork and spoon', 'Commute in bus', 'Commute in bus', 'Sitting', 'Commute in bus', 'Commute in bus', 'Walking', 'Commute in bus', 'Commute in bus', 'Commute in bus', 'Eating using fork and spoon', 'Commute in bus', 'Commute in bus', 'Commute in bus', 'Commute in bus', 'Eating using fork and spoon', 'Eating using fork and spoon']\n",
      "Walking 21 3\n",
      "['Eating using fork and spoon', 'Eating using fork and spoon', 'Eating using fork and spoon', 'Sitting', 'Eating using fork and spoon', 'Eating using fork and spoon', 'Eating using fork and spoon', 'Sitting', 'Eating using fork and spoon', 'Eating using fork and spoon', 'Sitting', 'Sitting', 'Eating using fork and spoon', 'Sitting', 'Sitting', 'Sitting', 'Sitting', 'Sitting']\n",
      "Commute in bus 7 4\n",
      "['Working on laptop', 'Working on laptop', 'Eating using fork and spoon']\n",
      "Sitting 13 12\n",
      "['Working on laptop']\n",
      "Eating using fork and spoon 0 0\n",
      "[]\n",
      "0.53\n",
      "Working on laptop 61 34\n",
      "['Commute in bus', 'Commute in bus', 'Eating using fork and spoon', 'Eating using fork and spoon', 'Eating using fork and spoon', 'Commute in bus', 'Commute in bus', 'Commute in bus', 'Commute in bus', 'Commute in bus', 'Sitting', 'Commute in bus', 'Commute in bus', 'Eating using fork and spoon', 'Sitting', 'Commute in bus', 'Commute in bus', 'Eating using fork and spoon', 'Commute in bus', 'Sitting', 'Commute in bus', 'Eating using fork and spoon', 'Commute in bus', 'Commute in bus', 'Commute in bus', 'Commute in bus', 'Commute in bus']\n",
      "Walking 16 1\n",
      "['Eating using fork and spoon', 'Sitting', 'Sitting', 'Eating using fork and spoon', 'Sitting', 'Sitting', 'Sitting', 'Eating using fork and spoon', 'Sitting', 'Sitting', 'Sitting', 'Sitting', 'Eating using fork and spoon', 'Eating using fork and spoon', 'Eating using fork and spoon']\n",
      "Commute in bus 15 10\n",
      "['Eating using fork and spoon', 'Working on laptop', 'Working on laptop', 'Eating using fork and spoon', 'Working on laptop']\n",
      "Sitting 8 8\n",
      "[]\n",
      "Eating using fork and spoon 0 0\n",
      "[]\n",
      "0.53\n",
      "Working on laptop 68 42\n",
      "['Commute in bus', 'Commute in bus', 'Eating using fork and spoon', 'Eating using fork and spoon', 'Commute in bus', 'Commute in bus', 'Commute in bus', 'Sitting', 'Sitting', 'Commute in bus', 'Commute in bus', 'Commute in bus', 'Sitting', 'Sitting', 'Commute in bus', 'Commute in bus', 'Commute in bus', 'Commute in bus', 'Eating using fork and spoon', 'Commute in bus', 'Sitting', 'Sitting', 'Eating using fork and spoon', 'Eating using fork and spoon', 'Sitting', 'Commute in bus']\n",
      "Walking 17 2\n",
      "['Eating using fork and spoon', 'Eating using fork and spoon', 'Sitting', 'Sitting', 'Eating using fork and spoon', 'Sitting', 'Sitting', 'Eating using fork and spoon', 'Sitting', 'Sitting', 'Sitting', 'Eating using fork and spoon', 'Eating using fork and spoon', 'Sitting', 'Eating using fork and spoon']\n",
      "Commute in bus 8 4\n",
      "['Working on laptop', 'Working on laptop', 'Eating using fork and spoon', 'Working on laptop']\n",
      "Sitting 7 5\n",
      "['Working on laptop', 'Commute in bus']\n",
      "Eating using fork and spoon 0 0\n",
      "[]\n"
     ]
    },
    {
     "name": "stdout",
     "output_type": "stream",
     "text": [
      "0.43\n",
      "Working on laptop 61 30\n",
      "['Commute in bus', 'Commute in bus', 'Commute in bus', 'Commute in bus', 'Commute in bus', 'Eating using fork and spoon', 'Commute in bus', 'Commute in bus', 'Sitting', 'Commute in bus', 'Sitting', 'Commute in bus', 'Commute in bus', 'Sitting', 'Commute in bus', 'Commute in bus', 'Sitting', 'Sitting', 'Commute in bus', 'Commute in bus', 'Commute in bus', 'Sitting', 'Commute in bus', 'Commute in bus', 'Eating using fork and spoon', 'Commute in bus', 'Commute in bus', 'Commute in bus', 'Sitting', 'Commute in bus', 'Eating using fork and spoon']\n",
      "Walking 22 1\n",
      "['Sitting', 'Sitting', 'Sitting', 'Sitting', 'Eating using fork and spoon', 'Sitting', 'Eating using fork and spoon', 'Eating using fork and spoon', 'Sitting', 'Eating using fork and spoon', 'Eating using fork and spoon', 'Sitting', 'Eating using fork and spoon', 'Sitting', 'Sitting', 'Eating using fork and spoon', 'Sitting', 'Eating using fork and spoon', 'Sitting', 'Eating using fork and spoon', 'Eating using fork and spoon']\n",
      "Commute in bus 8 4\n",
      "['Working on laptop', 'Working on laptop', 'Eating using fork and spoon', 'Working on laptop']\n",
      "Sitting 9 8\n",
      "['Working on laptop']\n",
      "Eating using fork and spoon 0 0\n",
      "[]\n",
      "0.44\n",
      "Working on laptop 60 29\n",
      "['Commute in bus', 'Commute in bus', 'Eating using fork and spoon', 'Commute in bus', 'Sitting', 'Commute in bus', 'Sitting', 'Commute in bus', 'Commute in bus', 'Commute in bus', 'Commute in bus', 'Sitting', 'Commute in bus', 'Commute in bus', 'Commute in bus', 'Commute in bus', 'Commute in bus', 'Commute in bus', 'Eating using fork and spoon', 'Sitting', 'Sitting', 'Sitting', 'Eating using fork and spoon', 'Commute in bus', 'Commute in bus', 'Commute in bus', 'Commute in bus', 'Eating using fork and spoon', 'Sitting', 'Commute in bus', 'Commute in bus']\n",
      "Walking 20 0\n",
      "['Sitting', 'Eating using fork and spoon', 'Eating using fork and spoon', 'Sitting', 'Sitting', 'Eating using fork and spoon', 'Sitting', 'Sitting', 'Eating using fork and spoon', 'Eating using fork and spoon', 'Sitting', 'Sitting', 'Sitting', 'Sitting', 'Sitting', 'Sitting', 'Eating using fork and spoon', 'Sitting', 'Sitting', 'Sitting']\n",
      "Commute in bus 12 7\n",
      "['Working on laptop', 'Working on laptop', 'Eating using fork and spoon', 'Working on laptop', 'Working on laptop']\n",
      "Sitting 8 8\n",
      "[]\n",
      "Eating using fork and spoon 0 0\n",
      "[]\n",
      "0.54\n",
      "Working on laptop 58 36\n",
      "['Sitting', 'Sitting', 'Commute in bus', 'Commute in bus', 'Commute in bus', 'Commute in bus', 'Eating using fork and spoon', 'Commute in bus', 'Commute in bus', 'Commute in bus', 'Sitting', 'Commute in bus', 'Commute in bus', 'Commute in bus', 'Commute in bus', 'Commute in bus', 'Commute in bus', 'Sitting', 'Commute in bus', 'Commute in bus', 'Commute in bus', 'Commute in bus']\n",
      "Walking 19 3\n",
      "['Sitting', 'Eating using fork and spoon', 'Eating using fork and spoon', 'Eating using fork and spoon', 'Sitting', 'Sitting', 'Working on laptop', 'Sitting', 'Sitting', 'Eating using fork and spoon', 'Eating using fork and spoon', 'Commute in bus', 'Commute in bus', 'Sitting', 'Eating using fork and spoon', 'Eating using fork and spoon']\n",
      "Commute in bus 14 7\n",
      "['Eating using fork and spoon', 'Eating using fork and spoon', 'Working on laptop', 'Eating using fork and spoon', 'Eating using fork and spoon', 'Eating using fork and spoon', 'Eating using fork and spoon']\n",
      "Sitting 9 8\n",
      "['Working on laptop']\n",
      "Eating using fork and spoon 0 0\n",
      "[]\n"
     ]
    }
   ],
   "source": [
    "random.seed(a=10)\n",
    "for i in range(10):\n",
    "    evaluate(100, 1, indices)"
   ]
  },
  {
   "cell_type": "code",
   "execution_count": 217,
   "metadata": {
    "collapsed": true
   },
   "outputs": [
    {
     "name": "stdout",
     "output_type": "stream",
     "text": [
      "0.549732620321 [514, 1, 278, 85, 57] 0\n",
      "0.0660377358491 [5, 21, 12, 139, 141] 1\n",
      "0.479381443299 [56, 0, 93, 0, 45] 2\n",
      "0.923076923077 [9, 1, 3, 156, 0] 3\n",
      "0.606382978723 [9, 0, 28, 0, 57] 4\n"
     ]
    }
   ],
   "source": [
    "# the data for classify each activity\n",
    "random.seed(a=10)\n",
    "for i in range(len(indices)):\n",
    "    evaluate_one(i, 1, indices)"
   ]
  },
  {
   "cell_type": "code",
   "execution_count": 231,
   "metadata": {
    "collapsed": true
   },
   "outputs": [
    {
     "name": "stdout",
     "output_type": "stream",
     "text": [
      "0.549732620321\n",
      "[514, 'Working on laptop']\n",
      "[1, 'Walking']\n",
      "[278, 'Commute in bus']\n",
      "[85, 'Sitting']\n",
      "[57, 'Eating using fork and spoon']\n",
      "Working on laptop\n",
      "\n",
      "\n",
      "0.0660377358491\n",
      "[5, 'Working on laptop']\n",
      "[21, 'Walking']\n",
      "[12, 'Commute in bus']\n",
      "[139, 'Sitting']\n",
      "[141, 'Eating using fork and spoon']\n",
      "Walking\n",
      "\n",
      "\n",
      "0.479381443299\n",
      "[56, 'Working on laptop']\n",
      "[0, 'Walking']\n",
      "[93, 'Commute in bus']\n",
      "[0, 'Sitting']\n",
      "[45, 'Eating using fork and spoon']\n",
      "Commute in bus\n",
      "\n",
      "\n",
      "0.923076923077\n",
      "[9, 'Working on laptop']\n",
      "[1, 'Walking']\n",
      "[3, 'Commute in bus']\n",
      "[156, 'Sitting']\n",
      "[0, 'Eating using fork and spoon']\n",
      "Sitting\n",
      "\n",
      "\n",
      "0.606382978723\n",
      "[9, 'Working on laptop']\n",
      "[0, 'Walking']\n",
      "[28, 'Commute in bus']\n",
      "[0, 'Sitting']\n",
      "[57, 'Eating using fork and spoon']\n",
      "Eating using fork and spoon\n",
      "\n",
      "\n"
     ]
    }
   ],
   "source": [
    "# the data for classify each activity, guess 1 each time\n",
    "random.seed(a=10)\n",
    "for i in getVar(activities, indices):\n",
    "    evaluate_one(i, 1, indices)"
   ]
  },
  {
   "cell_type": "code",
   "execution_count": 235,
   "metadata": {
    "collapsed": true
   },
   "outputs": [
    {
     "name": "stdout",
     "output_type": "stream",
     "text": [
      "0.836363636364\n",
      "[782, 'Working on laptop']\n",
      "[86, 'Walking']\n",
      "[813, 'Commute in bus']\n",
      "[85, 'Sitting']\n",
      "[104, 'Eating using fork and spoon']\n",
      "Working on laptop\n",
      "\n",
      "\n",
      "0.525157232704\n",
      "[32, 'Working on laptop']\n",
      "[167, 'Walking']\n",
      "[128, 'Commute in bus']\n",
      "[152, 'Sitting']\n",
      "[157, 'Eating using fork and spoon']\n",
      "Walking\n",
      "\n",
      "\n",
      "0.948453608247\n",
      "[133, 'Working on laptop']\n",
      "[0, 'Walking']\n",
      "[184, 'Commute in bus']\n",
      "[0, 'Sitting']\n",
      "[71, 'Eating using fork and spoon']\n",
      "Commute in bus\n",
      "\n",
      "\n",
      "0.92899408284\n",
      "[12, 'Working on laptop']\n",
      "[157, 'Walking']\n",
      "[12, 'Commute in bus']\n",
      "[157, 'Sitting']\n",
      "[0, 'Eating using fork and spoon']\n",
      "Sitting\n",
      "\n",
      "\n",
      "0.765957446809\n",
      "[33, 'Working on laptop']\n",
      "[0, 'Walking']\n",
      "[83, 'Commute in bus']\n",
      "[0, 'Sitting']\n",
      "[72, 'Eating using fork and spoon']\n",
      "Eating using fork and spoon\n",
      "\n",
      "\n"
     ]
    }
   ],
   "source": [
    "# the data for classifying each activity, guess 2 each time\n",
    "random.seed(a=10)\n",
    "for i in getVar(activities, indices):\n",
    "    evaluate_one(i, 2, indices)"
   ]
  },
  {
   "cell_type": "code",
   "execution_count": 117,
   "metadata": {
    "collapsed": true
   },
   "outputs": [
    {
     "name": "stdout",
     "output_type": "stream",
     "text": [
      "0.72\n",
      "0.74\n",
      "0.64\n",
      "0.66\n",
      "0.72\n",
      "0.78\n",
      "0.71\n",
      "0.69\n"
     ]
    },
    {
     "ename": "KeyboardInterrupt",
     "evalue": "",
     "output_type": "error",
     "traceback": [
      "\u001b[0;31m---------------------------------------------------------------------------\u001b[0m",
      "\u001b[0;31mKeyboardInterrupt\u001b[0m                         Traceback (most recent call last)",
      "\u001b[0;32m<ipython-input-117-b7f827a7c718>\u001b[0m in \u001b[0;36m<module>\u001b[0;34m()\u001b[0m\n\u001b[1;32m      1\u001b[0m \u001b[0mrandom\u001b[0m\u001b[0;34m.\u001b[0m\u001b[0mseed\u001b[0m\u001b[0;34m(\u001b[0m\u001b[0ma\u001b[0m\u001b[0;34m=\u001b[0m\u001b[0;36m10\u001b[0m\u001b[0;34m)\u001b[0m\u001b[0;34m\u001b[0m\u001b[0m\n\u001b[1;32m      2\u001b[0m \u001b[0;32mfor\u001b[0m \u001b[0mi\u001b[0m \u001b[0;32min\u001b[0m \u001b[0mrange\u001b[0m\u001b[0;34m(\u001b[0m\u001b[0;36m10\u001b[0m\u001b[0;34m)\u001b[0m\u001b[0;34m:\u001b[0m\u001b[0;34m\u001b[0m\u001b[0m\n\u001b[0;32m----> 3\u001b[0;31m     \u001b[0mevaluate\u001b[0m\u001b[0;34m(\u001b[0m\u001b[0;36m100\u001b[0m\u001b[0;34m)\u001b[0m\u001b[0;34m\u001b[0m\u001b[0m\n\u001b[0m",
      "\u001b[0;32m<ipython-input-114-349aa3e3ee17>\u001b[0m in \u001b[0;36mevaluate\u001b[0;34m(k, indices)\u001b[0m\n\u001b[1;32m      3\u001b[0m     \u001b[0mcount\u001b[0m \u001b[0;34m=\u001b[0m \u001b[0;36m0\u001b[0m\u001b[0;34m\u001b[0m\u001b[0m\n\u001b[1;32m      4\u001b[0m     \u001b[0;32mfor\u001b[0m \u001b[0mi\u001b[0m \u001b[0;32min\u001b[0m \u001b[0mrange\u001b[0m\u001b[0;34m(\u001b[0m\u001b[0mk\u001b[0m\u001b[0;34m)\u001b[0m\u001b[0;34m:\u001b[0m\u001b[0;34m\u001b[0m\u001b[0m\n\u001b[0;32m----> 5\u001b[0;31m         \u001b[0mresult\u001b[0m \u001b[0;34m=\u001b[0m \u001b[0mclassify\u001b[0m\u001b[0;34m(\u001b[0m\u001b[0mgetVar\u001b[0m\u001b[0;34m(\u001b[0m\u001b[0mrepresent\u001b[0m\u001b[0;34m,\u001b[0m \u001b[0mindices\u001b[0m\u001b[0;34m)\u001b[0m\u001b[0;34m,\u001b[0m \u001b[0mtest\u001b[0m\u001b[0;34m[\u001b[0m\u001b[0mi\u001b[0m\u001b[0;34m]\u001b[0m\u001b[0;34m[\u001b[0m\u001b[0;36m0\u001b[0m\u001b[0;34m]\u001b[0m\u001b[0;34m,\u001b[0m \u001b[0;36m3\u001b[0m\u001b[0;34m)\u001b[0m\u001b[0;34m\u001b[0m\u001b[0m\n\u001b[0m\u001b[1;32m      6\u001b[0m         \u001b[0;32mif\u001b[0m \u001b[0mtest\u001b[0m\u001b[0;34m[\u001b[0m\u001b[0mi\u001b[0m\u001b[0;34m]\u001b[0m\u001b[0;34m[\u001b[0m\u001b[0;36m1\u001b[0m\u001b[0;34m]\u001b[0m \u001b[0;32min\u001b[0m \u001b[0mresult\u001b[0m\u001b[0;34m:\u001b[0m\u001b[0;34m\u001b[0m\u001b[0m\n\u001b[1;32m      7\u001b[0m             \u001b[0mcount\u001b[0m \u001b[0;34m+=\u001b[0m \u001b[0;36m1\u001b[0m\u001b[0;34m\u001b[0m\u001b[0m\n",
      "\u001b[0;32m<ipython-input-73-939197697980>\u001b[0m in \u001b[0;36mclassify\u001b[0;34m(represents, seg, k)\u001b[0m\n\u001b[1;32m      3\u001b[0m     \u001b[0mdist\u001b[0m \u001b[0;34m=\u001b[0m \u001b[0;34m[\u001b[0m\u001b[0;34m-\u001b[0m\u001b[0;36m1\u001b[0m \u001b[0;32mfor\u001b[0m \u001b[0mi\u001b[0m \u001b[0;32min\u001b[0m \u001b[0mrange\u001b[0m\u001b[0;34m(\u001b[0m\u001b[0mlen\u001b[0m\u001b[0;34m(\u001b[0m\u001b[0mrepresents\u001b[0m\u001b[0;34m)\u001b[0m\u001b[0;34m)\u001b[0m\u001b[0;34m]\u001b[0m\u001b[0;34m\u001b[0m\u001b[0m\n\u001b[1;32m      4\u001b[0m     \u001b[0;32mfor\u001b[0m \u001b[0mi\u001b[0m \u001b[0;32min\u001b[0m \u001b[0mrange\u001b[0m\u001b[0;34m(\u001b[0m\u001b[0mlen\u001b[0m\u001b[0;34m(\u001b[0m\u001b[0mrepresents\u001b[0m\u001b[0;34m)\u001b[0m\u001b[0;34m)\u001b[0m\u001b[0;34m:\u001b[0m\u001b[0;34m\u001b[0m\u001b[0m\n\u001b[0;32m----> 5\u001b[0;31m         \u001b[0mdist\u001b[0m\u001b[0;34m[\u001b[0m\u001b[0mi\u001b[0m\u001b[0;34m]\u001b[0m \u001b[0;34m=\u001b[0m \u001b[0mdistance\u001b[0m\u001b[0;34m(\u001b[0m\u001b[0mrepresents\u001b[0m\u001b[0;34m[\u001b[0m\u001b[0mi\u001b[0m\u001b[0;34m]\u001b[0m\u001b[0;34m,\u001b[0m \u001b[0mseg\u001b[0m\u001b[0;34m)\u001b[0m\u001b[0;34m\u001b[0m\u001b[0m\n\u001b[0m\u001b[1;32m      6\u001b[0m     \u001b[0msmall_dist\u001b[0m\u001b[0;34m,\u001b[0m \u001b[0mindices\u001b[0m \u001b[0;34m=\u001b[0m \u001b[0mk_small\u001b[0m\u001b[0;34m(\u001b[0m\u001b[0mdist\u001b[0m\u001b[0;34m,\u001b[0m \u001b[0mk\u001b[0m\u001b[0;34m)\u001b[0m\u001b[0;34m\u001b[0m\u001b[0m\n\u001b[1;32m      7\u001b[0m     \u001b[0;32mreturn\u001b[0m \u001b[0mgetVar\u001b[0m\u001b[0;34m(\u001b[0m\u001b[0mactivities\u001b[0m\u001b[0;34m,\u001b[0m \u001b[0mindices\u001b[0m\u001b[0;34m)\u001b[0m\u001b[0;34m\u001b[0m\u001b[0m\n",
      "\u001b[0;32m<ipython-input-1-16349686e3a3>\u001b[0m in \u001b[0;36mdistance\u001b[0;34m(seg1, seg2)\u001b[0m\n\u001b[1;32m      6\u001b[0m     \u001b[0mresult\u001b[0m \u001b[0;34m=\u001b[0m \u001b[0;36m0.0\u001b[0m\u001b[0;34m;\u001b[0m\u001b[0;34m\u001b[0m\u001b[0m\n\u001b[1;32m      7\u001b[0m     \u001b[0mdist\u001b[0m \u001b[0;34m=\u001b[0m \u001b[0;32mlambda\u001b[0m \u001b[0mx\u001b[0m\u001b[0;34m,\u001b[0m\u001b[0my\u001b[0m \u001b[0;34m:\u001b[0m \u001b[0mnp\u001b[0m\u001b[0;34m.\u001b[0m\u001b[0mabs\u001b[0m\u001b[0;34m(\u001b[0m\u001b[0mx\u001b[0m \u001b[0;34m-\u001b[0m \u001b[0my\u001b[0m\u001b[0;34m)\u001b[0m\u001b[0;34m\u001b[0m\u001b[0m\n\u001b[0;32m----> 8\u001b[0;31m     \u001b[0mdistance\u001b[0m\u001b[0;34m,\u001b[0m \u001b[0mmatrix\u001b[0m \u001b[0;34m=\u001b[0m \u001b[0mfast_relaxed_dtw\u001b[0m\u001b[0;34m(\u001b[0m\u001b[0mseg1\u001b[0m\u001b[0;34m,\u001b[0m \u001b[0mseg2\u001b[0m\u001b[0;34m,\u001b[0m \u001b[0mdist\u001b[0m\u001b[0;34m=\u001b[0m\u001b[0mdist\u001b[0m\u001b[0;34m,\u001b[0m \u001b[0mr\u001b[0m\u001b[0;34m=\u001b[0m\u001b[0;36m1\u001b[0m\u001b[0;34m)\u001b[0m\u001b[0;34m\u001b[0m\u001b[0m\n\u001b[0m\u001b[1;32m      9\u001b[0m     \u001b[0;32mreturn\u001b[0m \u001b[0mdistance\u001b[0m\u001b[0;34m\u001b[0m\u001b[0m\n\u001b[1;32m     10\u001b[0m \u001b[0;34m\u001b[0m\u001b[0m\n",
      "\u001b[0;32m/Users/Lancelot/Desktop/curantis/medoid/fast_relaxed_dtw_v1.pyc\u001b[0m in \u001b[0;36mfast_relaxed_dtw\u001b[0;34m(x, y, radius, dist, r)\u001b[0m\n\u001b[1;32m     48\u001b[0m         '''\n\u001b[1;32m     49\u001b[0m     \u001b[0mx\u001b[0m\u001b[0;34m,\u001b[0m \u001b[0my\u001b[0m\u001b[0;34m,\u001b[0m \u001b[0mdist\u001b[0m \u001b[0;34m=\u001b[0m \u001b[0m__prep_inputs\u001b[0m\u001b[0;34m(\u001b[0m\u001b[0mx\u001b[0m\u001b[0;34m,\u001b[0m \u001b[0my\u001b[0m\u001b[0;34m,\u001b[0m \u001b[0mdist\u001b[0m\u001b[0;34m)\u001b[0m\u001b[0;34m\u001b[0m\u001b[0m\n\u001b[0;32m---> 50\u001b[0;31m     \u001b[0;32mreturn\u001b[0m \u001b[0m__fastdtw\u001b[0m\u001b[0;34m(\u001b[0m\u001b[0mx\u001b[0m\u001b[0;34m,\u001b[0m \u001b[0my\u001b[0m\u001b[0;34m,\u001b[0m \u001b[0mradius\u001b[0m\u001b[0;34m,\u001b[0m \u001b[0mdist\u001b[0m\u001b[0;34m,\u001b[0m \u001b[0mr\u001b[0m\u001b[0;34m)\u001b[0m\u001b[0;34m\u001b[0m\u001b[0m\n\u001b[0m\u001b[1;32m     51\u001b[0m \u001b[0;34m\u001b[0m\u001b[0m\n\u001b[1;32m     52\u001b[0m \u001b[0;34m\u001b[0m\u001b[0m\n",
      "\u001b[0;32m/Users/Lancelot/Desktop/curantis/medoid/fast_relaxed_dtw_v1.pyc\u001b[0m in \u001b[0;36m__fastdtw\u001b[0;34m(x, y, radius, dist, r)\u001b[0m\n\u001b[1;32m     68\u001b[0m     \u001b[0my_shrinked\u001b[0m \u001b[0;34m=\u001b[0m \u001b[0m__reduce_by_half\u001b[0m\u001b[0;34m(\u001b[0m\u001b[0my\u001b[0m\u001b[0;34m)\u001b[0m\u001b[0;34m\u001b[0m\u001b[0m\n\u001b[1;32m     69\u001b[0m     \u001b[0mdistance\u001b[0m\u001b[0;34m,\u001b[0m \u001b[0mpath\u001b[0m \u001b[0;34m=\u001b[0m\u001b[0;31m \u001b[0m\u001b[0;31m\\\u001b[0m\u001b[0;34m\u001b[0m\u001b[0m\n\u001b[0;32m---> 70\u001b[0;31m         \u001b[0m__fastdtw\u001b[0m\u001b[0;34m(\u001b[0m\u001b[0mx_shrinked\u001b[0m\u001b[0;34m,\u001b[0m \u001b[0my_shrinked\u001b[0m\u001b[0;34m,\u001b[0m \u001b[0mradius\u001b[0m\u001b[0;34m=\u001b[0m\u001b[0mradius\u001b[0m\u001b[0;34m,\u001b[0m \u001b[0mdist\u001b[0m\u001b[0;34m=\u001b[0m\u001b[0mdist\u001b[0m\u001b[0;34m,\u001b[0m \u001b[0mr\u001b[0m\u001b[0;34m=\u001b[0m\u001b[0mr\u001b[0m\u001b[0;34m)\u001b[0m\u001b[0;34m\u001b[0m\u001b[0m\n\u001b[0m\u001b[1;32m     71\u001b[0m     \u001b[0mwindow\u001b[0m \u001b[0;34m=\u001b[0m \u001b[0m__expand_window\u001b[0m\u001b[0;34m(\u001b[0m\u001b[0mpath\u001b[0m\u001b[0;34m,\u001b[0m \u001b[0mlen\u001b[0m\u001b[0;34m(\u001b[0m\u001b[0mx\u001b[0m\u001b[0;34m)\u001b[0m\u001b[0;34m,\u001b[0m \u001b[0mlen\u001b[0m\u001b[0;34m(\u001b[0m\u001b[0my\u001b[0m\u001b[0;34m)\u001b[0m\u001b[0;34m,\u001b[0m \u001b[0mradius\u001b[0m\u001b[0;34m)\u001b[0m\u001b[0;34m\u001b[0m\u001b[0m\n\u001b[1;32m     72\u001b[0m     \u001b[0;32mreturn\u001b[0m \u001b[0m__relaxed_dtw\u001b[0m\u001b[0;34m(\u001b[0m\u001b[0mx\u001b[0m\u001b[0;34m,\u001b[0m \u001b[0my\u001b[0m\u001b[0;34m,\u001b[0m \u001b[0mwindow\u001b[0m\u001b[0;34m,\u001b[0m \u001b[0mdist\u001b[0m\u001b[0;34m=\u001b[0m\u001b[0mdist\u001b[0m\u001b[0;34m,\u001b[0m \u001b[0mr\u001b[0m\u001b[0;34m=\u001b[0m\u001b[0mr\u001b[0m\u001b[0;34m)\u001b[0m\u001b[0;34m\u001b[0m\u001b[0m\n",
      "\u001b[0;32m/Users/Lancelot/Desktop/curantis/medoid/fast_relaxed_dtw_v1.pyc\u001b[0m in \u001b[0;36m__fastdtw\u001b[0;34m(x, y, radius, dist, r)\u001b[0m\n\u001b[1;32m     70\u001b[0m         \u001b[0m__fastdtw\u001b[0m\u001b[0;34m(\u001b[0m\u001b[0mx_shrinked\u001b[0m\u001b[0;34m,\u001b[0m \u001b[0my_shrinked\u001b[0m\u001b[0;34m,\u001b[0m \u001b[0mradius\u001b[0m\u001b[0;34m=\u001b[0m\u001b[0mradius\u001b[0m\u001b[0;34m,\u001b[0m \u001b[0mdist\u001b[0m\u001b[0;34m=\u001b[0m\u001b[0mdist\u001b[0m\u001b[0;34m,\u001b[0m \u001b[0mr\u001b[0m\u001b[0;34m=\u001b[0m\u001b[0mr\u001b[0m\u001b[0;34m)\u001b[0m\u001b[0;34m\u001b[0m\u001b[0m\n\u001b[1;32m     71\u001b[0m     \u001b[0mwindow\u001b[0m \u001b[0;34m=\u001b[0m \u001b[0m__expand_window\u001b[0m\u001b[0;34m(\u001b[0m\u001b[0mpath\u001b[0m\u001b[0;34m,\u001b[0m \u001b[0mlen\u001b[0m\u001b[0;34m(\u001b[0m\u001b[0mx\u001b[0m\u001b[0;34m)\u001b[0m\u001b[0;34m,\u001b[0m \u001b[0mlen\u001b[0m\u001b[0;34m(\u001b[0m\u001b[0my\u001b[0m\u001b[0;34m)\u001b[0m\u001b[0;34m,\u001b[0m \u001b[0mradius\u001b[0m\u001b[0;34m)\u001b[0m\u001b[0;34m\u001b[0m\u001b[0m\n\u001b[0;32m---> 72\u001b[0;31m     \u001b[0;32mreturn\u001b[0m \u001b[0m__relaxed_dtw\u001b[0m\u001b[0;34m(\u001b[0m\u001b[0mx\u001b[0m\u001b[0;34m,\u001b[0m \u001b[0my\u001b[0m\u001b[0;34m,\u001b[0m \u001b[0mwindow\u001b[0m\u001b[0;34m,\u001b[0m \u001b[0mdist\u001b[0m\u001b[0;34m=\u001b[0m\u001b[0mdist\u001b[0m\u001b[0;34m,\u001b[0m \u001b[0mr\u001b[0m\u001b[0;34m=\u001b[0m\u001b[0mr\u001b[0m\u001b[0;34m)\u001b[0m\u001b[0;34m\u001b[0m\u001b[0m\n\u001b[0m\u001b[1;32m     73\u001b[0m \u001b[0;34m\u001b[0m\u001b[0m\n\u001b[1;32m     74\u001b[0m \u001b[0;34m\u001b[0m\u001b[0m\n",
      "\u001b[0;32m/Users/Lancelot/Desktop/curantis/medoid/fast_relaxed_dtw_v1.pyc\u001b[0m in \u001b[0;36m__relaxed_dtw\u001b[0;34m(x, y, window, dist, r)\u001b[0m\n\u001b[1;32m    149\u001b[0m         \u001b[0mdt\u001b[0m \u001b[0;34m=\u001b[0m \u001b[0mdist\u001b[0m\u001b[0;34m(\u001b[0m\u001b[0mx\u001b[0m\u001b[0;34m[\u001b[0m\u001b[0mi\u001b[0m\u001b[0;34m-\u001b[0m\u001b[0;36m1\u001b[0m\u001b[0;34m]\u001b[0m\u001b[0;34m,\u001b[0m \u001b[0my\u001b[0m\u001b[0;34m[\u001b[0m\u001b[0mj\u001b[0m\u001b[0;34m-\u001b[0m\u001b[0;36m1\u001b[0m\u001b[0;34m]\u001b[0m\u001b[0;34m)\u001b[0m\u001b[0;34m\u001b[0m\u001b[0m\n\u001b[1;32m    150\u001b[0m         DTW[i, j] = min((DTW[i-1, j][0]+dt, i-1, j), (DTW[i, j-1][0]+dt, i, j-1),\n\u001b[0;32m--> 151\u001b[0;31m                       (DTW[i-1, j-1][0]+dt, i-1, j-1), key=lambda a: a[0])\n\u001b[0m\u001b[1;32m    152\u001b[0m     \u001b[0mi\u001b[0m\u001b[0;34m,\u001b[0m \u001b[0mj\u001b[0m \u001b[0;34m=\u001b[0m \u001b[0mlen_x\u001b[0m\u001b[0;34m,\u001b[0m \u001b[0mlen_y\u001b[0m\u001b[0;34m\u001b[0m\u001b[0m\n\u001b[1;32m    153\u001b[0m     \u001b[0;32mif\u001b[0m \u001b[0;34m(\u001b[0m\u001b[0mr\u001b[0m\u001b[0;34m!=\u001b[0m\u001b[0;36m0\u001b[0m\u001b[0;34m)\u001b[0m\u001b[0;34m:\u001b[0m\u001b[0;34m\u001b[0m\u001b[0m\n",
      "\u001b[0;32m/Users/Lancelot/Desktop/curantis/medoid/fast_relaxed_dtw_v1.pyc\u001b[0m in \u001b[0;36m<lambda>\u001b[0;34m(a)\u001b[0m\n\u001b[1;32m    149\u001b[0m         \u001b[0mdt\u001b[0m \u001b[0;34m=\u001b[0m \u001b[0mdist\u001b[0m\u001b[0;34m(\u001b[0m\u001b[0mx\u001b[0m\u001b[0;34m[\u001b[0m\u001b[0mi\u001b[0m\u001b[0;34m-\u001b[0m\u001b[0;36m1\u001b[0m\u001b[0;34m]\u001b[0m\u001b[0;34m,\u001b[0m \u001b[0my\u001b[0m\u001b[0;34m[\u001b[0m\u001b[0mj\u001b[0m\u001b[0;34m-\u001b[0m\u001b[0;36m1\u001b[0m\u001b[0;34m]\u001b[0m\u001b[0;34m)\u001b[0m\u001b[0;34m\u001b[0m\u001b[0m\n\u001b[1;32m    150\u001b[0m         DTW[i, j] = min((DTW[i-1, j][0]+dt, i-1, j), (DTW[i, j-1][0]+dt, i, j-1),\n\u001b[0;32m--> 151\u001b[0;31m                       (DTW[i-1, j-1][0]+dt, i-1, j-1), key=lambda a: a[0])\n\u001b[0m\u001b[1;32m    152\u001b[0m     \u001b[0mi\u001b[0m\u001b[0;34m,\u001b[0m \u001b[0mj\u001b[0m \u001b[0;34m=\u001b[0m \u001b[0mlen_x\u001b[0m\u001b[0;34m,\u001b[0m \u001b[0mlen_y\u001b[0m\u001b[0;34m\u001b[0m\u001b[0m\n\u001b[1;32m    153\u001b[0m     \u001b[0;32mif\u001b[0m \u001b[0;34m(\u001b[0m\u001b[0mr\u001b[0m\u001b[0;34m!=\u001b[0m\u001b[0;36m0\u001b[0m\u001b[0;34m)\u001b[0m\u001b[0;34m:\u001b[0m\u001b[0;34m\u001b[0m\u001b[0m\n",
      "\u001b[0;31mKeyboardInterrupt\u001b[0m: "
     ]
    }
   ],
   "source": [
    "# classify for 3 result, for all activities\n",
    "random.seed(a=10)\n",
    "for i in range(10):\n",
    "    evaluate(100)"
   ]
  },
  {
   "cell_type": "markdown",
   "metadata": {},
   "source": [
    "### calculate the distance matrix for a random sample of segments\n",
    "the visualization is not accurate, just a trival approach"
   ]
  },
  {
   "cell_type": "code",
   "execution_count": 17,
   "metadata": {},
   "outputs": [],
   "source": [
    "import numpy as np\n",
    "import string\n",
    "\n",
    "test = random.sample(all_segments[0], 200)\n",
    "length = len(test)\n",
    "table = [[0 for i in range(length)] for i in range(length)]\n",
    "for i in range(length):\n",
    "    for j in range(length):\n",
    "        if i == j:\n",
    "            table[i][j] = 0\n",
    "        elif i < j:\n",
    "            table[i][j] = distance(test[i], test[j])\n",
    "            table[j][i] = table[i][j]\n",
    "        else:\n",
    "            continue"
   ]
  },
  {
   "cell_type": "code",
   "execution_count": 18,
   "metadata": {},
   "outputs": [
    {
     "data": {
      "image/png": "[encoded data removed]",
      "text/plain": [
       "<Figure size 432x288 with 1 Axes>"
      ]
     },
     "metadata": {
      "needs_background": "light"
     },
     "output_type": "display_data"
    }
   ],
   "source": [
    "from sklearn.decomposition import PCA\n",
    "from matplotlib import pyplot as plt\n",
    "data = np.array(table)\n",
    "pca = PCA(n_components=2)\n",
    "coor = pca.fit_transform(data)\n",
    "x, y = np.array(coor).T\n",
    "plt.scatter(x, y)\n",
    "plt.show()"
   ]
  },
  {
   "cell_type": "markdown",
   "metadata": {},
   "source": [
    "### another approach for visualization clustering, will print edges as well, time consuming"
   ]
  },
  {
   "cell_type": "code",
   "execution_count": 42,
   "metadata": {},
   "outputs": [],
   "source": [
    "import networkx as nx\n",
    "dt = [('len', float)]\n",
    "A = np.array(table)\n",
    "A = A.view(dt)\n",
    "\n",
    "G = nx.from_numpy_matrix(A)\n",
    "G = nx.relabel_nodes(G, dict(zip(range(len(G.nodes())),string.ascii_uppercase)))    \n",
    "G = nx.drawing.nx_agraph.to_agraph(G)\n",
    "# edges = list(G.edges())\n",
    "# G.remove_edges_from(edges)\n",
    "# G.node_attr.update(color=\"red\", style=\"filled\")\n",
    "G.edge_attr.update(color=\"white\")\n",
    "G.draw('./out.png', format='png', prog='neato')"
   ]
  },
  {
   "cell_type": "code",
   "execution_count": 314,
   "metadata": {},
   "outputs": [
    {
     "data": {
      "text/plain": [
       "array([[ 58.91121437,  -5.99548056],\n",
       "       [ -2.64637306,  19.10169791],\n",
       "       [-21.17254535,  -4.03570441],\n",
       "       [-35.09229595,  -9.07051294]])"
      ]
     },
     "execution_count": 314,
     "metadata": {},
     "output_type": "execute_result"
    }
   ],
   "source": [
    "import numpy as np\n",
    "from sklearn.decomposition import PCA\n",
    "from matplotlib import pyplot as plt\n",
    "A = np.array([(0, 1,2,3),\n",
    "               (1, 0, 0.9, 0.2),\n",
    "               (2, 0.9, 0, 0.1),\n",
    "               (3, 0.2, 0.1, 0)\n",
    "               ]) * 20\n",
    "pca = PCA(n_components=2)\n",
    "X2d = pca.fit_transform(A)\n",
    "X2d"
   ]
  },
  {
   "cell_type": "code",
   "execution_count": 324,
   "metadata": {},
   "outputs": [
    {
     "name": "stdout",
     "output_type": "stream",
     "text": [
      "[[-5.75393585e+01  8.16496429e-01]\n",
      " [-5.81244262e+01 -8.13747648e-01]\n",
      " [ 1.15663785e+02 -2.74878088e-03]]\n"
     ]
    },
    {
     "data": {
      "image/png": "[encoded data removed]",
      "text/plain": [
       "<Figure size 432x288 with 1 Axes>"
      ]
     },
     "metadata": {
      "needs_background": "light"
     },
     "output_type": "display_data"
    }
   ],
   "source": [
    "A = np.array([(0, 1, 100),\n",
    "               (1, 0, 101),\n",
    "               (100, 101, 0)\n",
    "               ])\n",
    "pca = PCA(n_components=2)\n",
    "X2d = pca.fit_transform(A)\n",
    "print X2d\n",
    "x, y = np.array(X2d).T\n",
    "plt.scatter(x,y)\n",
    "plt.show();"
   ]
  },
  {
   "cell_type": "code",
   "execution_count": 38,
   "metadata": {},
   "outputs": [
    {
     "data": {
      "text/plain": [
       "[2, 3]"
      ]
     },
     "execution_count": 38,
     "metadata": {},
     "output_type": "execute_result"
    }
   ],
   "source": [
    "\n",
    "dist = [1,2,3,4,5,6]\n",
    "getVar(dist, [1,2])"
   ]
  }
 ],
 "metadata": {
  "kernelspec": {
   "display_name": "Python 2",
   "language": "python",
   "name": "python2"
  },
  "language_info": {
   "codemirror_mode": {
    "name": "ipython",
    "version": 2
   },
   "file_extension": ".py",
   "mimetype": "text/x-python",
   "name": "python",
   "nbconvert_exporter": "python",
   "pygments_lexer": "ipython2",
   "version": "2.7.10"
  }
 },
 "nbformat": 4,
 "nbformat_minor": 2
}
