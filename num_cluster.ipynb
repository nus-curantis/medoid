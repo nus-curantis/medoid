{
 "cells": [
  {
   "cell_type": "markdown",
   "metadata": {},
   "source": [
    "loss is defined as the follows: loss= sum(pairwise_distance) / sum(distance_of_medoids)"
   ]
  },
  {
   "cell_type": "code",
   "execution_count": 1,
   "metadata": {},
   "outputs": [],
   "source": [
    "from medoid_lib import api\n",
    "import matplotlib.pyplot as plt\n",
    "import importlib\n",
    "# importlib.reload(api)"
   ]
  },
  {
   "cell_type": "code",
   "execution_count": 2,
   "metadata": {},
   "outputs": [],
   "source": [
    "from medoid_lib.dtw_lib._dtw_lib import fastdtw\n",
    "f = lambda x, y: fastdtw(x, y, 1)[0]"
   ]
  },
  {
   "cell_type": "code",
   "execution_count": 48,
   "metadata": {},
   "outputs": [],
   "source": [
    "# def calculate_loss(medoids, matrix):\n",
    "def get_pairwise(cluster, matrix):\n",
    "    length = len(cluster)\n",
    "    sum = 0\n",
    "    count = 0\n",
    "    for i in range(length):\n",
    "        for j in range(i, length):\n",
    "            sum += matrix[i][j]\n",
    "            count += 1\n",
    "    return sum / length\n",
    "\n",
    "def get_pairwise_medoids(medoids, f):\n",
    "    length = len(medoids)\n",
    "    sum = 0\n",
    "    count = 0\n",
    "    for i in range(0, length):\n",
    "        for j in range(i, length):\n",
    "            sum += f(medoids[i], medoids[j])\n",
    "            count += 1\n",
    "    return sum\n",
    "\n",
    "def get_loss_for_num(segs, matrix, k, f, mode='complete'):\n",
    "    represents = api.get_medoids(matrix, segs, k, 0)\n",
    "    medoids = list(map(lambda r: r[0], represents))\n",
    "    clusters = api.convert_label_to_clusters(api.get_hieratical_cluster(matrix, k, mode))\n",
    "    numerator= 0\n",
    "    for c in clusters:\n",
    "        numerator += get_pairwise(c, matrix)\n",
    "    denominator = get_pairwise_medoids(medoids, f)\n",
    "    return numerator / k"
   ]
  },
  {
   "cell_type": "code",
   "execution_count": 5,
   "metadata": {},
   "outputs": [],
   "source": [
    "num = 3\n",
    "label_matrix = api.get_hieratical_cluster(matrix, num)\n",
    "clusters = api.convert_label_to_clusters(label_matrix)"
   ]
  },
  {
   "cell_type": "code",
   "execution_count": 4,
   "metadata": {},
   "outputs": [],
   "source": [
    "segs, matrix = api.load(['medoid/data/user2_Standing_segments_5', 'medoid/data/user2_Standing_matrix_5'])"
   ]
  },
  {
   "cell_type": "code",
   "execution_count": 9,
   "metadata": {},
   "outputs": [
    {
     "data": {
      "text/plain": [
       "25906.09090542077"
      ]
     },
     "execution_count": 9,
     "metadata": {},
     "output_type": "execute_result"
    }
   ],
   "source": [
    "get_loss_for_num(segs, matrix, 6, f, 'average')"
   ]
  },
  {
   "cell_type": "code",
   "execution_count": 11,
   "metadata": {},
   "outputs": [],
   "source": [
    "represents = api.get_medoids(matrix, segs, num, 0)"
   ]
  },
  {
   "cell_type": "code",
   "execution_count": 55,
   "metadata": {},
   "outputs": [
    {
     "data": {
      "text/plain": [
       "9.70430504233333"
      ]
     },
     "execution_count": 55,
     "metadata": {},
     "output_type": "execute_result"
    }
   ],
   "source": [
    "medoids = map(lambda r: r[0], represents)\n",
    "get_pairwise_medoids(list(medoids), f)"
   ]
  },
  {
   "cell_type": "code",
   "execution_count": 27,
   "metadata": {},
   "outputs": [
    {
     "data": {
      "text/plain": [
       "3939.780675783424"
      ]
     },
     "execution_count": 27,
     "metadata": {},
     "output_type": "execute_result"
    }
   ],
   "source": [
    "get_pairwise(clusters[0], matrix)\n",
    "medoid_index = map(lambda m: m[])\n",
    "get_pairwise()"
   ]
  },
  {
   "cell_type": "code",
   "execution_count": 40,
   "metadata": {},
   "outputs": [
    {
     "data": {
      "text/plain": [
       "0.0"
      ]
     },
     "execution_count": 40,
     "metadata": {},
     "output_type": "execute_result"
    }
   ],
   "source": [
    "medoids = list(map(lambda r: r[0], api.get_medoids(matrix, segs, 2, 0)))"
   ]
  },
  {
   "cell_type": "code",
   "execution_count": 18,
   "metadata": {},
   "outputs": [],
   "source": [
    "def plot_num(user, label, f, mode='complete'):\n",
    "    name = 'medoid/data/user' + str(user) + '_' + label;\n",
    "    segs, matrix = api.load([name + '_segments_5', name + '_matrix_5'])\n",
    "    x = list(range(1, 10))\n",
    "    y = []\n",
    "    for i in x:\n",
    "        y.append(get_loss_for_num(segs, matrix, i, f, mode))\n",
    "    plt.title(str(user) + \"_\" + label)\n",
    "    plt.plot(x, y)"
   ]
  },
  {
   "cell_type": "code",
   "execution_count": 15,
   "metadata": {
    "collapsed": true
   },
   "outputs": [
    {
     "data": {
      "image/png": "[encoded data removed]",
      "text/plain": [
       "<Figure size 432x288 with 1 Axes>"
      ]
     },
     "metadata": {
      "needs_background": "light"
     },
     "output_type": "display_data"
    }
   ],
   "source": [
    "plot_num(2, 'Standing', f)"
   ]
  },
  {
   "cell_type": "code",
   "execution_count": 14,
   "metadata": {
    "collapsed": true
   },
   "outputs": [
    {
     "data": {
      "image/png": "[encoded data removed]",
      "text/plain": [
       "<Figure size 432x288 with 1 Axes>"
      ]
     },
     "metadata": {
      "needs_background": "light"
     },
     "output_type": "display_data"
    }
   ],
   "source": [
    "plot_num(2, 'Standing', f, 'average')"
   ]
  },
  {
   "cell_type": "code",
   "execution_count": 22,
   "metadata": {},
   "outputs": [],
   "source": [
    "def point_to_line_dist(start, end, point):\n",
    "    import math\n",
    "    a = 1.0 * (start[1] - end[1]) / (start[0] - end[0])\n",
    "    c = end[1] - a * end[0]\n",
    "    return abs(a * point[0] - point[1] + c) / math.sqrt(a **2 + 1)\n",
    "import numpy as np"
   ]
  },
  {
   "cell_type": "code",
   "execution_count": 20,
   "metadata": {},
   "outputs": [],
   "source": [
    "def get_elbow(points):\n",
    "    start = points[0]\n",
    "    end = points[-1]\n",
    "    dist = list(map(lambda p: point_to_line_dist(start, end, p), points))\n",
    "    return np.argmax(dist) + 1"
   ]
  },
  {
   "cell_type": "code",
   "execution_count": 16,
   "metadata": {},
   "outputs": [],
   "source": [
    "def get_cluster_num(user, label, f, mode='complete'):\n",
    "    name = 'medoid/data/user' + str(user) + '_' + label;\n",
    "    segs, matrix = api.load([name + '_segments_5', name + '_matrix_5'])\n",
    "    x = list(range(1, 10))\n",
    "    y = []\n",
    "    for i in x:\n",
    "        y.append(get_loss_for_num(segs, matrix, i, f, mode))\n",
    "    points = list(map(lambda i: (i, y[i - 1]), x))\n",
    "    return get_elbow(points)"
   ]
  },
  {
   "cell_type": "code",
   "execution_count": 17,
   "metadata": {},
   "outputs": [],
   "source": [
    "def get_points(user, label, f, mode='complete'):\n",
    "    name = 'medoid/data/user' + str(user) + '_' + label;\n",
    "    segs, matrix = api.load([name + '_segments_5', name + '_matrix_5'])\n",
    "    x = list(range(1, 10))\n",
    "    y = []\n",
    "    for i in x:\n",
    "        y.append(get_loss_for_num(segs, matrix, i, f, mode))\n",
    "    points = list(map(lambda i: (i, y[i - 1]), x))\n",
    "    return points"
   ]
  },
  {
   "cell_type": "code",
   "execution_count": 51,
   "metadata": {},
   "outputs": [
    {
     "data": {
      "text/plain": [
       "[(1, 8616.748449472385),\n",
       " (2, 5542.6415436448515),\n",
       " (3, 1638.8231134319094),\n",
       " (4, 1434.9069656653166),\n",
       " (5, 1336.3801138823403),\n",
       " (6, 1252.1769152810023),\n",
       " (7, 1157.3708958432655),\n",
       " (8, 1149.2719060566596),\n",
       " (9, 908.8494223612953)]"
      ]
     },
     "execution_count": 51,
     "metadata": {},
     "output_type": "execute_result"
    }
   ],
   "source": [
    "get_points(1, 'Standing', f)"
   ]
  },
  {
   "cell_type": "code",
   "execution_count": 58,
   "metadata": {},
   "outputs": [
    {
     "data": {
      "text/plain": [
       "[0.0, 2.190603050928231, 0.0]"
      ]
     },
     "execution_count": 58,
     "metadata": {},
     "output_type": "execute_result"
    }
   ],
   "source": [
    "get_elbow([(1, 8616.748449472385), (2, 5542.6415436448515), (9, 908.8494223612953)])"
   ]
  },
  {
   "cell_type": "code",
   "execution_count": null,
   "metadata": {},
   "outputs": [],
   "source": []
  },
  {
   "cell_type": "code",
   "execution_count": 50,
   "metadata": {},
   "outputs": [
    {
     "data": {
      "text/plain": [
       "(3, None)"
      ]
     },
     "execution_count": 50,
     "metadata": {},
     "output_type": "execute_result"
    },
    {
     "data": {
      "image/png": "[encoded data removed]",
      "text/plain": [
       "<Figure size 432x288 with 1 Axes>"
      ]
     },
     "metadata": {
      "needs_background": "light"
     },
     "output_type": "display_data"
    }
   ],
   "source": [
    "user, label, mode = 1, 'Working on laptop', 'average'\n",
    "get_cluster_num(user, label, f, mode), plot_num(user, label, f, mode)"
   ]
  },
  {
   "cell_type": "code",
   "execution_count": 26,
   "metadata": {
    "collapsed": true
   },
   "outputs": [
    {
     "data": {
      "text/plain": [
       "(2, None)"
      ]
     },
     "execution_count": 26,
     "metadata": {},
     "output_type": "execute_result"
    },
    {
     "data": {
      "image/png": "[encoded data removed]",
      "text/plain": [
       "<Figure size 432x288 with 1 Axes>"
      ]
     },
     "metadata": {
      "needs_background": "light"
     },
     "output_type": "display_data"
    }
   ],
   "source": [
    "user, label, mode = 1, 'Walking', 'complete'\n",
    "get_cluster_num(user, label, f, mode), plot_num(user, label, f, mode)"
   ]
  }
 ],
 "metadata": {
  "kernelspec": {
   "display_name": "Python 3",
   "language": "python",
   "name": "python3"
  },
  "language_info": {
   "codemirror_mode": {
    "name": "ipython",
    "version": 3
   },
   "file_extension": ".py",
   "mimetype": "text/x-python",
   "name": "python",
   "nbconvert_exporter": "python",
   "pygments_lexer": "ipython3",
   "version": "3.7.3"
  }
 },
 "nbformat": 4,
 "nbformat_minor": 2
}
